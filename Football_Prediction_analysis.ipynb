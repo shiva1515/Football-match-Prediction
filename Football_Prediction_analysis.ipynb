{
  "nbformat": 4,
  "nbformat_minor": 0,
  "metadata": {
    "colab": {
      "name": "Football_Prediction_analysis.ipynb",
      "provenance": [],
      "collapsed_sections": []
    },
    "kernelspec": {
      "name": "python3",
      "display_name": "Python 3"
    },
    "language_info": {
      "name": "python"
    }
  },
  "cells": [
    {
      "cell_type": "markdown",
      "source": [
        "# Predicting Football Match Outcome"
      ],
      "metadata": {
        "id": "cJhqq9Hwk2L5"
      }
    },
    {
      "cell_type": "code",
      "execution_count": 120,
      "metadata": {
        "id": "m2Z7jsQYyemw"
      },
      "outputs": [],
      "source": [
        "# Importing all libraries\n",
        "import pandas as pd\n",
        "import numpy as np\n",
        "import matplotlib.pyplot as plt\n",
        "import seaborn as sns\n",
        "from sklearn.linear_model import LogisticRegression\n",
        "from sklearn.neighbors import KNeighborsClassifier\n",
        "from sklearn.svm import SVC\n",
        "from sklearn.ensemble import RandomForestClassifier\n",
        "from sklearn.naive_bayes import GaussianNB\n",
        "from xgboost import XGBClassifier\n",
        "from sklearn import model_selection\n",
        "from sklearn.utils import class_weight\n",
        "from sklearn.metrics import classification_report\n",
        "from sklearn.metrics import confusion_matrix\n",
        "from sklearn.metrics import roc_auc_score\n",
        "from sklearn.metrics import matthews_corrcoef"
      ]
    },
    {
      "cell_type": "code",
      "source": [
        "df = pd.read_csv('E0.csv')\n",
        "df.shape"
      ],
      "metadata": {
        "id": "rnCduejtyn4U",
        "colab": {
          "base_uri": "https://localhost:8080/"
        },
        "outputId": "a4da2eff-1cc6-435f-c4ce-18b0d0500aea"
      },
      "execution_count": 2,
      "outputs": [
        {
          "output_type": "execute_result",
          "data": {
            "text/plain": [
              "(370, 106)"
            ]
          },
          "metadata": {},
          "execution_count": 2
        }
      ]
    },
    {
      "cell_type": "code",
      "source": [
        "#No duplicates Found\n",
        "df = df.loc[:,~df.columns.duplicated()]\n",
        "df.shape"
      ],
      "metadata": {
        "colab": {
          "base_uri": "https://localhost:8080/"
        },
        "id": "1ppaWHEvapcz",
        "outputId": "068f18d5-282f-43ae-8a40-4418eb70344f"
      },
      "execution_count": 121,
      "outputs": [
        {
          "output_type": "execute_result",
          "data": {
            "text/plain": [
              "(370, 146)"
            ]
          },
          "metadata": {},
          "execution_count": 121
        }
      ]
    },
    {
      "cell_type": "code",
      "source": [
        "df.drop_duplicates(ignore_index = True,inplace = True)\n",
        "df.shape"
      ],
      "metadata": {
        "colab": {
          "base_uri": "https://localhost:8080/"
        },
        "id": "HxyVtZGAywBQ",
        "outputId": "bcbb4566-42c6-40cb-f46b-8f6cd293e2e8"
      },
      "execution_count": 4,
      "outputs": [
        {
          "output_type": "execute_result",
          "data": {
            "text/plain": [
              "(370, 106)"
            ]
          },
          "metadata": {},
          "execution_count": 4
        }
      ]
    },
    {
      "cell_type": "code",
      "source": [
        "df.head()"
      ],
      "metadata": {
        "colab": {
          "base_uri": "https://localhost:8080/",
          "height": 235
        },
        "id": "wtG7PcS-yxkN",
        "outputId": "e9e55c06-fc2a-49f7-a855-be7a19fccd9e"
      },
      "execution_count": 5,
      "outputs": [
        {
          "output_type": "execute_result",
          "data": {
            "text/plain": [
              "  Div        Date   Time    HomeTeam        AwayTeam  FTHG  FTAG FTR  HTHG  \\\n",
              "0  E0  13/08/2021  20:00   Brentford         Arsenal     2     0   H     1   \n",
              "1  E0  14/08/2021  12:30  Man United           Leeds     5     1   H     1   \n",
              "2  E0  14/08/2021  15:00     Burnley        Brighton     1     2   A     1   \n",
              "3  E0  14/08/2021  15:00     Chelsea  Crystal Palace     3     0   H     2   \n",
              "4  E0  14/08/2021  15:00     Everton     Southampton     3     1   H     0   \n",
              "\n",
              "   HTAG  ... AvgC<2.5  AHCh  B365CAHH  B365CAHA  PCAHH  PCAHA  MaxCAHH  \\\n",
              "0     0  ...     1.62  0.50      1.75      2.05   1.81   2.13     2.05   \n",
              "1     0  ...     2.25 -1.00      2.05      1.75   2.17   1.77     2.19   \n",
              "2     0  ...     1.62  0.25      1.79      2.15   1.81   2.14     1.82   \n",
              "3     0  ...     1.94 -1.50      2.05      1.75   2.12   1.81     2.16   \n",
              "4     1  ...     1.67 -0.50      2.05      1.88   2.05   1.88     2.08   \n",
              "\n",
              "   MaxCAHA  AvgCAHH  AvgCAHA  \n",
              "0     2.17     1.80     2.09  \n",
              "1     1.93     2.10     1.79  \n",
              "2     2.19     1.79     2.12  \n",
              "3     1.93     2.06     1.82  \n",
              "4     1.90     2.03     1.86  \n",
              "\n",
              "[5 rows x 106 columns]"
            ],
            "text/html": [
              "\n",
              "  <div id=\"df-faa34984-baea-4179-a50f-5cacc66c9a65\">\n",
              "    <div class=\"colab-df-container\">\n",
              "      <div>\n",
              "<style scoped>\n",
              "    .dataframe tbody tr th:only-of-type {\n",
              "        vertical-align: middle;\n",
              "    }\n",
              "\n",
              "    .dataframe tbody tr th {\n",
              "        vertical-align: top;\n",
              "    }\n",
              "\n",
              "    .dataframe thead th {\n",
              "        text-align: right;\n",
              "    }\n",
              "</style>\n",
              "<table border=\"1\" class=\"dataframe\">\n",
              "  <thead>\n",
              "    <tr style=\"text-align: right;\">\n",
              "      <th></th>\n",
              "      <th>Div</th>\n",
              "      <th>Date</th>\n",
              "      <th>Time</th>\n",
              "      <th>HomeTeam</th>\n",
              "      <th>AwayTeam</th>\n",
              "      <th>FTHG</th>\n",
              "      <th>FTAG</th>\n",
              "      <th>FTR</th>\n",
              "      <th>HTHG</th>\n",
              "      <th>HTAG</th>\n",
              "      <th>...</th>\n",
              "      <th>AvgC&lt;2.5</th>\n",
              "      <th>AHCh</th>\n",
              "      <th>B365CAHH</th>\n",
              "      <th>B365CAHA</th>\n",
              "      <th>PCAHH</th>\n",
              "      <th>PCAHA</th>\n",
              "      <th>MaxCAHH</th>\n",
              "      <th>MaxCAHA</th>\n",
              "      <th>AvgCAHH</th>\n",
              "      <th>AvgCAHA</th>\n",
              "    </tr>\n",
              "  </thead>\n",
              "  <tbody>\n",
              "    <tr>\n",
              "      <th>0</th>\n",
              "      <td>E0</td>\n",
              "      <td>13/08/2021</td>\n",
              "      <td>20:00</td>\n",
              "      <td>Brentford</td>\n",
              "      <td>Arsenal</td>\n",
              "      <td>2</td>\n",
              "      <td>0</td>\n",
              "      <td>H</td>\n",
              "      <td>1</td>\n",
              "      <td>0</td>\n",
              "      <td>...</td>\n",
              "      <td>1.62</td>\n",
              "      <td>0.50</td>\n",
              "      <td>1.75</td>\n",
              "      <td>2.05</td>\n",
              "      <td>1.81</td>\n",
              "      <td>2.13</td>\n",
              "      <td>2.05</td>\n",
              "      <td>2.17</td>\n",
              "      <td>1.80</td>\n",
              "      <td>2.09</td>\n",
              "    </tr>\n",
              "    <tr>\n",
              "      <th>1</th>\n",
              "      <td>E0</td>\n",
              "      <td>14/08/2021</td>\n",
              "      <td>12:30</td>\n",
              "      <td>Man United</td>\n",
              "      <td>Leeds</td>\n",
              "      <td>5</td>\n",
              "      <td>1</td>\n",
              "      <td>H</td>\n",
              "      <td>1</td>\n",
              "      <td>0</td>\n",
              "      <td>...</td>\n",
              "      <td>2.25</td>\n",
              "      <td>-1.00</td>\n",
              "      <td>2.05</td>\n",
              "      <td>1.75</td>\n",
              "      <td>2.17</td>\n",
              "      <td>1.77</td>\n",
              "      <td>2.19</td>\n",
              "      <td>1.93</td>\n",
              "      <td>2.10</td>\n",
              "      <td>1.79</td>\n",
              "    </tr>\n",
              "    <tr>\n",
              "      <th>2</th>\n",
              "      <td>E0</td>\n",
              "      <td>14/08/2021</td>\n",
              "      <td>15:00</td>\n",
              "      <td>Burnley</td>\n",
              "      <td>Brighton</td>\n",
              "      <td>1</td>\n",
              "      <td>2</td>\n",
              "      <td>A</td>\n",
              "      <td>1</td>\n",
              "      <td>0</td>\n",
              "      <td>...</td>\n",
              "      <td>1.62</td>\n",
              "      <td>0.25</td>\n",
              "      <td>1.79</td>\n",
              "      <td>2.15</td>\n",
              "      <td>1.81</td>\n",
              "      <td>2.14</td>\n",
              "      <td>1.82</td>\n",
              "      <td>2.19</td>\n",
              "      <td>1.79</td>\n",
              "      <td>2.12</td>\n",
              "    </tr>\n",
              "    <tr>\n",
              "      <th>3</th>\n",
              "      <td>E0</td>\n",
              "      <td>14/08/2021</td>\n",
              "      <td>15:00</td>\n",
              "      <td>Chelsea</td>\n",
              "      <td>Crystal Palace</td>\n",
              "      <td>3</td>\n",
              "      <td>0</td>\n",
              "      <td>H</td>\n",
              "      <td>2</td>\n",
              "      <td>0</td>\n",
              "      <td>...</td>\n",
              "      <td>1.94</td>\n",
              "      <td>-1.50</td>\n",
              "      <td>2.05</td>\n",
              "      <td>1.75</td>\n",
              "      <td>2.12</td>\n",
              "      <td>1.81</td>\n",
              "      <td>2.16</td>\n",
              "      <td>1.93</td>\n",
              "      <td>2.06</td>\n",
              "      <td>1.82</td>\n",
              "    </tr>\n",
              "    <tr>\n",
              "      <th>4</th>\n",
              "      <td>E0</td>\n",
              "      <td>14/08/2021</td>\n",
              "      <td>15:00</td>\n",
              "      <td>Everton</td>\n",
              "      <td>Southampton</td>\n",
              "      <td>3</td>\n",
              "      <td>1</td>\n",
              "      <td>H</td>\n",
              "      <td>0</td>\n",
              "      <td>1</td>\n",
              "      <td>...</td>\n",
              "      <td>1.67</td>\n",
              "      <td>-0.50</td>\n",
              "      <td>2.05</td>\n",
              "      <td>1.88</td>\n",
              "      <td>2.05</td>\n",
              "      <td>1.88</td>\n",
              "      <td>2.08</td>\n",
              "      <td>1.90</td>\n",
              "      <td>2.03</td>\n",
              "      <td>1.86</td>\n",
              "    </tr>\n",
              "  </tbody>\n",
              "</table>\n",
              "<p>5 rows × 106 columns</p>\n",
              "</div>\n",
              "      <button class=\"colab-df-convert\" onclick=\"convertToInteractive('df-faa34984-baea-4179-a50f-5cacc66c9a65')\"\n",
              "              title=\"Convert this dataframe to an interactive table.\"\n",
              "              style=\"display:none;\">\n",
              "        \n",
              "  <svg xmlns=\"http://www.w3.org/2000/svg\" height=\"24px\"viewBox=\"0 0 24 24\"\n",
              "       width=\"24px\">\n",
              "    <path d=\"M0 0h24v24H0V0z\" fill=\"none\"/>\n",
              "    <path d=\"M18.56 5.44l.94 2.06.94-2.06 2.06-.94-2.06-.94-.94-2.06-.94 2.06-2.06.94zm-11 1L8.5 8.5l.94-2.06 2.06-.94-2.06-.94L8.5 2.5l-.94 2.06-2.06.94zm10 10l.94 2.06.94-2.06 2.06-.94-2.06-.94-.94-2.06-.94 2.06-2.06.94z\"/><path d=\"M17.41 7.96l-1.37-1.37c-.4-.4-.92-.59-1.43-.59-.52 0-1.04.2-1.43.59L10.3 9.45l-7.72 7.72c-.78.78-.78 2.05 0 2.83L4 21.41c.39.39.9.59 1.41.59.51 0 1.02-.2 1.41-.59l7.78-7.78 2.81-2.81c.8-.78.8-2.07 0-2.86zM5.41 20L4 18.59l7.72-7.72 1.47 1.35L5.41 20z\"/>\n",
              "  </svg>\n",
              "      </button>\n",
              "      \n",
              "  <style>\n",
              "    .colab-df-container {\n",
              "      display:flex;\n",
              "      flex-wrap:wrap;\n",
              "      gap: 12px;\n",
              "    }\n",
              "\n",
              "    .colab-df-convert {\n",
              "      background-color: #E8F0FE;\n",
              "      border: none;\n",
              "      border-radius: 50%;\n",
              "      cursor: pointer;\n",
              "      display: none;\n",
              "      fill: #1967D2;\n",
              "      height: 32px;\n",
              "      padding: 0 0 0 0;\n",
              "      width: 32px;\n",
              "    }\n",
              "\n",
              "    .colab-df-convert:hover {\n",
              "      background-color: #E2EBFA;\n",
              "      box-shadow: 0px 1px 2px rgba(60, 64, 67, 0.3), 0px 1px 3px 1px rgba(60, 64, 67, 0.15);\n",
              "      fill: #174EA6;\n",
              "    }\n",
              "\n",
              "    [theme=dark] .colab-df-convert {\n",
              "      background-color: #3B4455;\n",
              "      fill: #D2E3FC;\n",
              "    }\n",
              "\n",
              "    [theme=dark] .colab-df-convert:hover {\n",
              "      background-color: #434B5C;\n",
              "      box-shadow: 0px 1px 3px 1px rgba(0, 0, 0, 0.15);\n",
              "      filter: drop-shadow(0px 1px 2px rgba(0, 0, 0, 0.3));\n",
              "      fill: #FFFFFF;\n",
              "    }\n",
              "  </style>\n",
              "\n",
              "      <script>\n",
              "        const buttonEl =\n",
              "          document.querySelector('#df-faa34984-baea-4179-a50f-5cacc66c9a65 button.colab-df-convert');\n",
              "        buttonEl.style.display =\n",
              "          google.colab.kernel.accessAllowed ? 'block' : 'none';\n",
              "\n",
              "        async function convertToInteractive(key) {\n",
              "          const element = document.querySelector('#df-faa34984-baea-4179-a50f-5cacc66c9a65');\n",
              "          const dataTable =\n",
              "            await google.colab.kernel.invokeFunction('convertToInteractive',\n",
              "                                                     [key], {});\n",
              "          if (!dataTable) return;\n",
              "\n",
              "          const docLinkHtml = 'Like what you see? Visit the ' +\n",
              "            '<a target=\"_blank\" href=https://colab.research.google.com/notebooks/data_table.ipynb>data table notebook</a>'\n",
              "            + ' to learn more about interactive tables.';\n",
              "          element.innerHTML = '';\n",
              "          dataTable['output_type'] = 'display_data';\n",
              "          await google.colab.output.renderOutput(dataTable, element);\n",
              "          const docLink = document.createElement('div');\n",
              "          docLink.innerHTML = docLinkHtml;\n",
              "          element.appendChild(docLink);\n",
              "        }\n",
              "      </script>\n",
              "    </div>\n",
              "  </div>\n",
              "  "
            ]
          },
          "metadata": {},
          "execution_count": 5
        }
      ]
    },
    {
      "cell_type": "code",
      "source": [
        "# First we check if we have any null values in our predicted columns as well as different results\n",
        "# then we make into categorical as note suggests.\n",
        "print(df['FTR'].isnull().sum())\n",
        "print(df['FTR'].value_counts())\n",
        "df['Final'] = np.where(df['FTR'] == 'A',0,1)\n",
        "# df.drop('FTR',axis = 1,inplace = True)"
      ],
      "metadata": {
        "colab": {
          "base_uri": "https://localhost:8080/"
        },
        "id": "zEAZ2TAeyzGf",
        "outputId": "2e22b4c2-5e91-418c-9a9b-c7674be4a486"
      },
      "execution_count": 122,
      "outputs": [
        {
          "output_type": "stream",
          "name": "stdout",
          "text": [
            "0\n",
            "H    156\n",
            "A    126\n",
            "D     88\n",
            "Name: FTR, dtype: int64\n"
          ]
        }
      ]
    },
    {
      "cell_type": "code",
      "source": [
        ""
      ],
      "metadata": {
        "id": "qyDXnOxK19yh"
      },
      "execution_count": 7,
      "outputs": []
    },
    {
      "cell_type": "code",
      "source": [
        "df.head()"
      ],
      "metadata": {
        "colab": {
          "base_uri": "https://localhost:8080/",
          "height": 235
        },
        "id": "Z2hYJmDK198L",
        "outputId": "0f30e520-4559-48f6-9930-cda75666b0fa"
      },
      "execution_count": 8,
      "outputs": [
        {
          "output_type": "execute_result",
          "data": {
            "text/plain": [
              "  Div        Date   Time    HomeTeam        AwayTeam  FTHG  FTAG FTR  HTHG  \\\n",
              "0  E0  13/08/2021  20:00   Brentford         Arsenal     2     0   H     1   \n",
              "1  E0  14/08/2021  12:30  Man United           Leeds     5     1   H     1   \n",
              "2  E0  14/08/2021  15:00     Burnley        Brighton     1     2   A     1   \n",
              "3  E0  14/08/2021  15:00     Chelsea  Crystal Palace     3     0   H     2   \n",
              "4  E0  14/08/2021  15:00     Everton     Southampton     3     1   H     0   \n",
              "\n",
              "   HTAG  ...  AHCh B365CAHH  B365CAHA  PCAHH  PCAHA  MaxCAHH  MaxCAHA  \\\n",
              "0     0  ...  0.50     1.75      2.05   1.81   2.13     2.05     2.17   \n",
              "1     0  ... -1.00     2.05      1.75   2.17   1.77     2.19     1.93   \n",
              "2     0  ...  0.25     1.79      2.15   1.81   2.14     1.82     2.19   \n",
              "3     0  ... -1.50     2.05      1.75   2.12   1.81     2.16     1.93   \n",
              "4     1  ... -0.50     2.05      1.88   2.05   1.88     2.08     1.90   \n",
              "\n",
              "   AvgCAHH  AvgCAHA  Final  \n",
              "0     1.80     2.09      1  \n",
              "1     2.10     1.79      1  \n",
              "2     1.79     2.12      0  \n",
              "3     2.06     1.82      1  \n",
              "4     2.03     1.86      1  \n",
              "\n",
              "[5 rows x 107 columns]"
            ],
            "text/html": [
              "\n",
              "  <div id=\"df-313f431a-2125-4142-aeec-44c5e637d9df\">\n",
              "    <div class=\"colab-df-container\">\n",
              "      <div>\n",
              "<style scoped>\n",
              "    .dataframe tbody tr th:only-of-type {\n",
              "        vertical-align: middle;\n",
              "    }\n",
              "\n",
              "    .dataframe tbody tr th {\n",
              "        vertical-align: top;\n",
              "    }\n",
              "\n",
              "    .dataframe thead th {\n",
              "        text-align: right;\n",
              "    }\n",
              "</style>\n",
              "<table border=\"1\" class=\"dataframe\">\n",
              "  <thead>\n",
              "    <tr style=\"text-align: right;\">\n",
              "      <th></th>\n",
              "      <th>Div</th>\n",
              "      <th>Date</th>\n",
              "      <th>Time</th>\n",
              "      <th>HomeTeam</th>\n",
              "      <th>AwayTeam</th>\n",
              "      <th>FTHG</th>\n",
              "      <th>FTAG</th>\n",
              "      <th>FTR</th>\n",
              "      <th>HTHG</th>\n",
              "      <th>HTAG</th>\n",
              "      <th>...</th>\n",
              "      <th>AHCh</th>\n",
              "      <th>B365CAHH</th>\n",
              "      <th>B365CAHA</th>\n",
              "      <th>PCAHH</th>\n",
              "      <th>PCAHA</th>\n",
              "      <th>MaxCAHH</th>\n",
              "      <th>MaxCAHA</th>\n",
              "      <th>AvgCAHH</th>\n",
              "      <th>AvgCAHA</th>\n",
              "      <th>Final</th>\n",
              "    </tr>\n",
              "  </thead>\n",
              "  <tbody>\n",
              "    <tr>\n",
              "      <th>0</th>\n",
              "      <td>E0</td>\n",
              "      <td>13/08/2021</td>\n",
              "      <td>20:00</td>\n",
              "      <td>Brentford</td>\n",
              "      <td>Arsenal</td>\n",
              "      <td>2</td>\n",
              "      <td>0</td>\n",
              "      <td>H</td>\n",
              "      <td>1</td>\n",
              "      <td>0</td>\n",
              "      <td>...</td>\n",
              "      <td>0.50</td>\n",
              "      <td>1.75</td>\n",
              "      <td>2.05</td>\n",
              "      <td>1.81</td>\n",
              "      <td>2.13</td>\n",
              "      <td>2.05</td>\n",
              "      <td>2.17</td>\n",
              "      <td>1.80</td>\n",
              "      <td>2.09</td>\n",
              "      <td>1</td>\n",
              "    </tr>\n",
              "    <tr>\n",
              "      <th>1</th>\n",
              "      <td>E0</td>\n",
              "      <td>14/08/2021</td>\n",
              "      <td>12:30</td>\n",
              "      <td>Man United</td>\n",
              "      <td>Leeds</td>\n",
              "      <td>5</td>\n",
              "      <td>1</td>\n",
              "      <td>H</td>\n",
              "      <td>1</td>\n",
              "      <td>0</td>\n",
              "      <td>...</td>\n",
              "      <td>-1.00</td>\n",
              "      <td>2.05</td>\n",
              "      <td>1.75</td>\n",
              "      <td>2.17</td>\n",
              "      <td>1.77</td>\n",
              "      <td>2.19</td>\n",
              "      <td>1.93</td>\n",
              "      <td>2.10</td>\n",
              "      <td>1.79</td>\n",
              "      <td>1</td>\n",
              "    </tr>\n",
              "    <tr>\n",
              "      <th>2</th>\n",
              "      <td>E0</td>\n",
              "      <td>14/08/2021</td>\n",
              "      <td>15:00</td>\n",
              "      <td>Burnley</td>\n",
              "      <td>Brighton</td>\n",
              "      <td>1</td>\n",
              "      <td>2</td>\n",
              "      <td>A</td>\n",
              "      <td>1</td>\n",
              "      <td>0</td>\n",
              "      <td>...</td>\n",
              "      <td>0.25</td>\n",
              "      <td>1.79</td>\n",
              "      <td>2.15</td>\n",
              "      <td>1.81</td>\n",
              "      <td>2.14</td>\n",
              "      <td>1.82</td>\n",
              "      <td>2.19</td>\n",
              "      <td>1.79</td>\n",
              "      <td>2.12</td>\n",
              "      <td>0</td>\n",
              "    </tr>\n",
              "    <tr>\n",
              "      <th>3</th>\n",
              "      <td>E0</td>\n",
              "      <td>14/08/2021</td>\n",
              "      <td>15:00</td>\n",
              "      <td>Chelsea</td>\n",
              "      <td>Crystal Palace</td>\n",
              "      <td>3</td>\n",
              "      <td>0</td>\n",
              "      <td>H</td>\n",
              "      <td>2</td>\n",
              "      <td>0</td>\n",
              "      <td>...</td>\n",
              "      <td>-1.50</td>\n",
              "      <td>2.05</td>\n",
              "      <td>1.75</td>\n",
              "      <td>2.12</td>\n",
              "      <td>1.81</td>\n",
              "      <td>2.16</td>\n",
              "      <td>1.93</td>\n",
              "      <td>2.06</td>\n",
              "      <td>1.82</td>\n",
              "      <td>1</td>\n",
              "    </tr>\n",
              "    <tr>\n",
              "      <th>4</th>\n",
              "      <td>E0</td>\n",
              "      <td>14/08/2021</td>\n",
              "      <td>15:00</td>\n",
              "      <td>Everton</td>\n",
              "      <td>Southampton</td>\n",
              "      <td>3</td>\n",
              "      <td>1</td>\n",
              "      <td>H</td>\n",
              "      <td>0</td>\n",
              "      <td>1</td>\n",
              "      <td>...</td>\n",
              "      <td>-0.50</td>\n",
              "      <td>2.05</td>\n",
              "      <td>1.88</td>\n",
              "      <td>2.05</td>\n",
              "      <td>1.88</td>\n",
              "      <td>2.08</td>\n",
              "      <td>1.90</td>\n",
              "      <td>2.03</td>\n",
              "      <td>1.86</td>\n",
              "      <td>1</td>\n",
              "    </tr>\n",
              "  </tbody>\n",
              "</table>\n",
              "<p>5 rows × 107 columns</p>\n",
              "</div>\n",
              "      <button class=\"colab-df-convert\" onclick=\"convertToInteractive('df-313f431a-2125-4142-aeec-44c5e637d9df')\"\n",
              "              title=\"Convert this dataframe to an interactive table.\"\n",
              "              style=\"display:none;\">\n",
              "        \n",
              "  <svg xmlns=\"http://www.w3.org/2000/svg\" height=\"24px\"viewBox=\"0 0 24 24\"\n",
              "       width=\"24px\">\n",
              "    <path d=\"M0 0h24v24H0V0z\" fill=\"none\"/>\n",
              "    <path d=\"M18.56 5.44l.94 2.06.94-2.06 2.06-.94-2.06-.94-.94-2.06-.94 2.06-2.06.94zm-11 1L8.5 8.5l.94-2.06 2.06-.94-2.06-.94L8.5 2.5l-.94 2.06-2.06.94zm10 10l.94 2.06.94-2.06 2.06-.94-2.06-.94-.94-2.06-.94 2.06-2.06.94z\"/><path d=\"M17.41 7.96l-1.37-1.37c-.4-.4-.92-.59-1.43-.59-.52 0-1.04.2-1.43.59L10.3 9.45l-7.72 7.72c-.78.78-.78 2.05 0 2.83L4 21.41c.39.39.9.59 1.41.59.51 0 1.02-.2 1.41-.59l7.78-7.78 2.81-2.81c.8-.78.8-2.07 0-2.86zM5.41 20L4 18.59l7.72-7.72 1.47 1.35L5.41 20z\"/>\n",
              "  </svg>\n",
              "      </button>\n",
              "      \n",
              "  <style>\n",
              "    .colab-df-container {\n",
              "      display:flex;\n",
              "      flex-wrap:wrap;\n",
              "      gap: 12px;\n",
              "    }\n",
              "\n",
              "    .colab-df-convert {\n",
              "      background-color: #E8F0FE;\n",
              "      border: none;\n",
              "      border-radius: 50%;\n",
              "      cursor: pointer;\n",
              "      display: none;\n",
              "      fill: #1967D2;\n",
              "      height: 32px;\n",
              "      padding: 0 0 0 0;\n",
              "      width: 32px;\n",
              "    }\n",
              "\n",
              "    .colab-df-convert:hover {\n",
              "      background-color: #E2EBFA;\n",
              "      box-shadow: 0px 1px 2px rgba(60, 64, 67, 0.3), 0px 1px 3px 1px rgba(60, 64, 67, 0.15);\n",
              "      fill: #174EA6;\n",
              "    }\n",
              "\n",
              "    [theme=dark] .colab-df-convert {\n",
              "      background-color: #3B4455;\n",
              "      fill: #D2E3FC;\n",
              "    }\n",
              "\n",
              "    [theme=dark] .colab-df-convert:hover {\n",
              "      background-color: #434B5C;\n",
              "      box-shadow: 0px 1px 3px 1px rgba(0, 0, 0, 0.15);\n",
              "      filter: drop-shadow(0px 1px 2px rgba(0, 0, 0, 0.3));\n",
              "      fill: #FFFFFF;\n",
              "    }\n",
              "  </style>\n",
              "\n",
              "      <script>\n",
              "        const buttonEl =\n",
              "          document.querySelector('#df-313f431a-2125-4142-aeec-44c5e637d9df button.colab-df-convert');\n",
              "        buttonEl.style.display =\n",
              "          google.colab.kernel.accessAllowed ? 'block' : 'none';\n",
              "\n",
              "        async function convertToInteractive(key) {\n",
              "          const element = document.querySelector('#df-313f431a-2125-4142-aeec-44c5e637d9df');\n",
              "          const dataTable =\n",
              "            await google.colab.kernel.invokeFunction('convertToInteractive',\n",
              "                                                     [key], {});\n",
              "          if (!dataTable) return;\n",
              "\n",
              "          const docLinkHtml = 'Like what you see? Visit the ' +\n",
              "            '<a target=\"_blank\" href=https://colab.research.google.com/notebooks/data_table.ipynb>data table notebook</a>'\n",
              "            + ' to learn more about interactive tables.';\n",
              "          element.innerHTML = '';\n",
              "          dataTable['output_type'] = 'display_data';\n",
              "          await google.colab.output.renderOutput(dataTable, element);\n",
              "          const docLink = document.createElement('div');\n",
              "          docLink.innerHTML = docLinkHtml;\n",
              "          element.appendChild(docLink);\n",
              "        }\n",
              "      </script>\n",
              "    </div>\n",
              "  </div>\n",
              "  "
            ]
          },
          "metadata": {},
          "execution_count": 8
        }
      ]
    },
    {
      "cell_type": "code",
      "source": [
        ""
      ],
      "metadata": {
        "id": "zJ6OQx2a199q"
      },
      "execution_count": 8,
      "outputs": []
    },
    {
      "cell_type": "code",
      "source": [
        ""
      ],
      "metadata": {
        "id": "R8TYZz343wpQ"
      },
      "execution_count": 8,
      "outputs": []
    },
    {
      "cell_type": "markdown",
      "source": [
        "From the Below Code we can Clearly see that Teams which have their home end up into win or Draw While Teams having Away Grounds are not that good Performance\n",
        "Machester and Liverpool have similar performance in both Away and Home ground"
      ],
      "metadata": {
        "id": "ITLDGFu55-_j"
      }
    },
    {
      "cell_type": "code",
      "source": [
        "# lets check for Home Ground Advantage of the teams\n",
        "home_ground_win = df.groupby(['HomeTeam']).agg({'Final':'mean'}).reset_index()\n",
        "home_ground_win.columns"
      ],
      "metadata": {
        "colab": {
          "base_uri": "https://localhost:8080/"
        },
        "id": "y-PN1bib3Eye",
        "outputId": "fc921bf5-98bf-4a26-ed29-79bbd929798e"
      },
      "execution_count": 9,
      "outputs": [
        {
          "output_type": "execute_result",
          "data": {
            "text/plain": [
              "Index(['HomeTeam', 'Final'], dtype='object')"
            ]
          },
          "metadata": {},
          "execution_count": 9
        }
      ]
    },
    {
      "cell_type": "code",
      "source": [
        "df['Final'] = np.where(df['FTR'] == 'A',1,0)\n",
        "home_ground_win = df.groupby(['HomeTeam']).agg({'Final':'mean'}).reset_index()\n",
        "sns.barplot(x='HomeTeam', y='Final', data= home_ground_win)\n",
        "plt.xticks(rotation = 90)"
      ],
      "metadata": {
        "colab": {
          "base_uri": "https://localhost:8080/",
          "height": 375
        },
        "id": "XxYA3qBi1-Ji",
        "outputId": "0627095a-d21f-4e0e-d22e-900c67734939"
      },
      "execution_count": 10,
      "outputs": [
        {
          "output_type": "execute_result",
          "data": {
            "text/plain": [
              "(array([ 0,  1,  2,  3,  4,  5,  6,  7,  8,  9, 10, 11, 12, 13, 14, 15, 16,\n",
              "        17, 18, 19]), <a list of 20 Text major ticklabel objects>)"
            ]
          },
          "metadata": {},
          "execution_count": 10
        },
        {
          "output_type": "display_data",
          "data": {
            "text/plain": [
              "<Figure size 432x288 with 1 Axes>"
            ],
            "image/png": "[encoded data removed]"
          },
          "metadata": {
            "needs_background": "light"
          }
        }
      ]
    },
    {
      "cell_type": "code",
      "source": [
        "df['Final'] = np.where(df['FTR'] == 'A',1,0)\n",
        "away_ground_win = df.groupby(['AwayTeam']).agg({'Final':'mean'}).reset_index()\n",
        "sns.barplot(x='AwayTeam', y='Final', data= away_ground_win)\n",
        "plt.xticks(rotation = 90)"
      ],
      "metadata": {
        "colab": {
          "base_uri": "https://localhost:8080/",
          "height": 375
        },
        "id": "Dx5bKcMJ1-K7",
        "outputId": "81aad4da-bd20-4c3f-ec9b-e8f411940f26"
      },
      "execution_count": 11,
      "outputs": [
        {
          "output_type": "execute_result",
          "data": {
            "text/plain": [
              "(array([ 0,  1,  2,  3,  4,  5,  6,  7,  8,  9, 10, 11, 12, 13, 14, 15, 16,\n",
              "        17, 18, 19]), <a list of 20 Text major ticklabel objects>)"
            ]
          },
          "metadata": {},
          "execution_count": 11
        },
        {
          "output_type": "display_data",
          "data": {
            "text/plain": [
              "<Figure size 432x288 with 1 Axes>"
            ],
            "image/png": "[encoded data removed]"
          },
          "metadata": {
            "needs_background": "light"
          }
        }
      ]
    },
    {
      "cell_type": "markdown",
      "source": [
        "We can Clearly see that having weekdays can impact the outcome of Away Teams winning or draw so we can keep this features as well however we can change this into categorical into weekdays or not"
      ],
      "metadata": {
        "id": "pt8uj0dE90vI"
      }
    },
    {
      "cell_type": "code",
      "source": [
        "print(df['Date'].isnull().sum())\n",
        "df['Dates'] = pd.to_datetime(df['Date'])\n",
        "df['Dates'].dtype\n",
        "df['WEEKDAY'] = np.where((df['Dates']).dt.dayofweek < 5,0,1)\n",
        "df['WEEKDAY'].value_counts()"
      ],
      "metadata": {
        "colab": {
          "base_uri": "https://localhost:8080/"
        },
        "id": "KcamuzcO7lmW",
        "outputId": "b90f39e7-682c-44e0-c034-1de1cf0786d1"
      },
      "execution_count": 12,
      "outputs": [
        {
          "output_type": "stream",
          "name": "stdout",
          "text": [
            "0\n"
          ]
        },
        {
          "output_type": "execute_result",
          "data": {
            "text/plain": [
              "1    204\n",
              "0    166\n",
              "Name: WEEKDAY, dtype: int64"
            ]
          },
          "metadata": {},
          "execution_count": 12
        }
      ]
    },
    {
      "cell_type": "code",
      "source": [
        "df_week_day = df[df['WEEKDAY'] == 1]"
      ],
      "metadata": {
        "id": "v5pQFqjy5CdL"
      },
      "execution_count": 13,
      "outputs": []
    },
    {
      "cell_type": "code",
      "source": [
        "df_week_day['Final'] = np.where(df_week_day['FTR'] == 'A',0,1)\n",
        "home_ground_win = df_week_day.groupby(['HomeTeam']).agg({'Final':'mean'}).reset_index()\n",
        "sns.barplot(x='HomeTeam', y='Final', data= home_ground_win)\n",
        "plt.xticks(rotation = 90)"
      ],
      "metadata": {
        "colab": {
          "base_uri": "https://localhost:8080/",
          "height": 479
        },
        "id": "wrJG1UPg5CgO",
        "outputId": "7f30f620-3fe2-4e41-e564-4bd80a34395b"
      },
      "execution_count": 14,
      "outputs": [
        {
          "output_type": "stream",
          "name": "stderr",
          "text": [
            "/usr/local/lib/python3.7/dist-packages/ipykernel_launcher.py:1: SettingWithCopyWarning: \n",
            "A value is trying to be set on a copy of a slice from a DataFrame.\n",
            "Try using .loc[row_indexer,col_indexer] = value instead\n",
            "\n",
            "See the caveats in the documentation: https://pandas.pydata.org/pandas-docs/stable/user_guide/indexing.html#returning-a-view-versus-a-copy\n",
            "  \"\"\"Entry point for launching an IPython kernel.\n"
          ]
        },
        {
          "output_type": "execute_result",
          "data": {
            "text/plain": [
              "(array([ 0,  1,  2,  3,  4,  5,  6,  7,  8,  9, 10, 11, 12, 13, 14, 15, 16,\n",
              "        17, 18, 19]), <a list of 20 Text major ticklabel objects>)"
            ]
          },
          "metadata": {},
          "execution_count": 14
        },
        {
          "output_type": "display_data",
          "data": {
            "text/plain": [
              "<Figure size 432x288 with 1 Axes>"
            ],
            "image/png": "[encoded data removed]"
          },
          "metadata": {
            "needs_background": "light"
          }
        }
      ]
    },
    {
      "cell_type": "code",
      "source": [
        "df_week_day['Final'] = np.where(df_week_day['FTR'] == 'A',1,0)\n",
        "away_ground_win = df_week_day.groupby(['AwayTeam']).agg({'Final':'mean'}).reset_index()\n",
        "sns.barplot(x='AwayTeam', y='Final', data= away_ground_win)\n",
        "plt.xticks(rotation = 90)"
      ],
      "metadata": {
        "colab": {
          "base_uri": "https://localhost:8080/",
          "height": 479
        },
        "id": "ZCjVR4gB8gYO",
        "outputId": "55e00280-4319-4046-9dd5-23b116d1ef23"
      },
      "execution_count": 15,
      "outputs": [
        {
          "output_type": "stream",
          "name": "stderr",
          "text": [
            "/usr/local/lib/python3.7/dist-packages/ipykernel_launcher.py:1: SettingWithCopyWarning: \n",
            "A value is trying to be set on a copy of a slice from a DataFrame.\n",
            "Try using .loc[row_indexer,col_indexer] = value instead\n",
            "\n",
            "See the caveats in the documentation: https://pandas.pydata.org/pandas-docs/stable/user_guide/indexing.html#returning-a-view-versus-a-copy\n",
            "  \"\"\"Entry point for launching an IPython kernel.\n"
          ]
        },
        {
          "output_type": "execute_result",
          "data": {
            "text/plain": [
              "(array([ 0,  1,  2,  3,  4,  5,  6,  7,  8,  9, 10, 11, 12, 13, 14, 15, 16,\n",
              "        17, 18, 19]), <a list of 20 Text major ticklabel objects>)"
            ]
          },
          "metadata": {},
          "execution_count": 15
        },
        {
          "output_type": "display_data",
          "data": {
            "text/plain": [
              "<Figure size 432x288 with 1 Axes>"
            ],
            "image/png": "[encoded data removed]"
          },
          "metadata": {
            "needs_background": "light"
          }
        }
      ]
    },
    {
      "cell_type": "markdown",
      "source": [
        "Comparing the Result of Half Time and Full Time and get almost 60% matches have same win not enough information"
      ],
      "metadata": {
        "id": "vNlQMfQ-L7Hm"
      }
    },
    {
      "cell_type": "code",
      "source": [
        "def autopct(pct): # only show the label when it's > 10%\n",
        "    return ('%.2f' % pct) if pct > 10 else ''\n",
        "\n",
        "df['same_half_and_full']  = np.where(df['FTR'] == df['HTR'],1,0)\n",
        "my_labels = ['Same_result','Not_same_result']\n",
        "ax = df['same_half_and_full'].value_counts().plot(kind='pie', figsize=(28,12),autopct=autopct,labels = None)\n",
        "ax.axes.get_yaxis().set_visible(False)\n",
        "plt.legend(loc= 2,labels=my_labels)"
      ],
      "metadata": {
        "colab": {
          "base_uri": "https://localhost:8080/",
          "height": 700
        },
        "id": "egq07y9RJZyY",
        "outputId": "689a5d52-21b0-4c3b-c82f-dc046ea9c772"
      },
      "execution_count": 16,
      "outputs": [
        {
          "output_type": "execute_result",
          "data": {
            "text/plain": [
              "<matplotlib.legend.Legend at 0x7fb74b1e6e10>"
            ]
          },
          "metadata": {},
          "execution_count": 16
        },
        {
          "output_type": "display_data",
          "data": {
            "text/plain": [
              "<Figure size 2016x864 with 1 Axes>"
            ],
            "image/png": "[encoded data removed]"
          },
          "metadata": {}
        }
      ]
    },
    {
      "cell_type": "markdown",
      "source": [
        "A fractional listing of 6/1 (six-to-one) odds would mean that you win 6 against every 1 you wager, in addition to receiving your dollar back (i.e., the amount you wagered)"
      ],
      "metadata": {
        "id": "xca2QOPcTnZ0"
      }
    },
    {
      "cell_type": "markdown",
      "source": [
        "Below we Tooks all the brokers Odd values and convert to percentage winning and as we only need to check Away wins or not\n",
        "\n",
        "The value having higher odds of Winning put into one and did this for all brokers and take the maximum of the all brokers \n",
        "\n",
        "Then we check this with our final result and it clearly shows that our this feature is almost tells the correct answer"
      ],
      "metadata": {
        "id": "IYM9LmNJnvIF"
      }
    },
    {
      "cell_type": "markdown",
      "source": [
        "We plot all the ROC AUC Curves for all the merged columns and found and good AUC. This means we can say that This features are import.\n",
        "We also did one analysis that most of the companies shows almost the same odds for the Teams."
      ],
      "metadata": {
        "id": "He1px628SfNu"
      }
    },
    {
      "cell_type": "markdown",
      "source": [
        "We can Clearly see from AUC_ROC Curve all companies have almost same predictions and thier odds"
      ],
      "metadata": {
        "id": "8-EFEEaMV3ew"
      }
    },
    {
      "cell_type": "markdown",
      "source": [
        "97% of companies have same odds in term winning or draw of Home Teams "
      ],
      "metadata": {
        "id": "gG2kl17GWLAA"
      }
    },
    {
      "cell_type": "markdown",
      "source": [
        "We will drop all the columns which have odds values"
      ],
      "metadata": {
        "id": "bOAKlWrzo9Uv"
      }
    },
    {
      "cell_type": "code",
      "source": [
        "# Getting the Probability of Winning according to B365\n",
        "def convert_binary(x,y,z):\n",
        "  probH = x\n",
        "  probD = y\n",
        "  probA = z\n",
        "  h,d,a = (1/probH)*100,(1/probD)*100,(1/probA)*100\n",
        "  total = h+d+a\n",
        "  h,d,a = (h/total)*100,(d/total)*100,(a/total)*100\n",
        "  max_h = max(h,d)\n",
        "  if a > max_h:\n",
        "    return 1\n",
        "  else: return 0"
      ],
      "metadata": {
        "id": "WwBXpGwcL5nm"
      },
      "execution_count": 18,
      "outputs": []
    },
    {
      "cell_type": "code",
      "source": [
        "df['B365Odds'] = df.apply (lambda row: convert_binary(row['B365H'],row['B365D'],row['B365A']), axis=1)"
      ],
      "metadata": {
        "id": "Nyx3XEZZY_zn"
      },
      "execution_count": 19,
      "outputs": []
    },
    {
      "cell_type": "code",
      "source": [
        "odd_str = ['B365','BW','IW','PS','VC','WH']\n",
        "for i in odd_str:\n",
        "  df[i+'Odds'] = df.apply (lambda row: convert_binary(row[i+'H'],row[i+'D'],row[i+'A']), axis=1)"
      ],
      "metadata": {
        "id": "dUVOPnSKL5q5"
      },
      "execution_count": 20,
      "outputs": []
    },
    {
      "cell_type": "code",
      "source": [
        "cols_needed = [a+'Odds' for a in odd_str] + ['HomeTeam','AwayTeam','FTR']"
      ],
      "metadata": {
        "id": "sWhOHfuyBiC7"
      },
      "execution_count": 21,
      "outputs": []
    },
    {
      "cell_type": "code",
      "source": [
        "df_odds = df[cols_needed]"
      ],
      "metadata": {
        "id": "w_0LCsVGBiE-"
      },
      "execution_count": 22,
      "outputs": []
    },
    {
      "cell_type": "code",
      "source": [
        "df_odds.head()"
      ],
      "metadata": {
        "colab": {
          "base_uri": "https://localhost:8080/",
          "height": 206
        },
        "id": "trjogZFFht2L",
        "outputId": "bfedf1c7-ae63-47e5-b9eb-30cef04713d8"
      },
      "execution_count": 23,
      "outputs": [
        {
          "output_type": "execute_result",
          "data": {
            "text/plain": [
              "   B365Odds  BWOdds  IWOdds  PSOdds  VCOdds  WHOdds    HomeTeam  \\\n",
              "0         1       1       1       1       1       1   Brentford   \n",
              "1         0       0       0       0       0       0  Man United   \n",
              "2         1       1       1       1       1       1     Burnley   \n",
              "3         0       0       0       0       0       0     Chelsea   \n",
              "4         0       0       0       0       0       0     Everton   \n",
              "\n",
              "         AwayTeam FTR  \n",
              "0         Arsenal   H  \n",
              "1           Leeds   H  \n",
              "2        Brighton   A  \n",
              "3  Crystal Palace   H  \n",
              "4     Southampton   H  "
            ],
            "text/html": [
              "\n",
              "  <div id=\"df-4e27221e-0144-4eaa-820a-bfa03faa6a09\">\n",
              "    <div class=\"colab-df-container\">\n",
              "      <div>\n",
              "<style scoped>\n",
              "    .dataframe tbody tr th:only-of-type {\n",
              "        vertical-align: middle;\n",
              "    }\n",
              "\n",
              "    .dataframe tbody tr th {\n",
              "        vertical-align: top;\n",
              "    }\n",
              "\n",
              "    .dataframe thead th {\n",
              "        text-align: right;\n",
              "    }\n",
              "</style>\n",
              "<table border=\"1\" class=\"dataframe\">\n",
              "  <thead>\n",
              "    <tr style=\"text-align: right;\">\n",
              "      <th></th>\n",
              "      <th>B365Odds</th>\n",
              "      <th>BWOdds</th>\n",
              "      <th>IWOdds</th>\n",
              "      <th>PSOdds</th>\n",
              "      <th>VCOdds</th>\n",
              "      <th>WHOdds</th>\n",
              "      <th>HomeTeam</th>\n",
              "      <th>AwayTeam</th>\n",
              "      <th>FTR</th>\n",
              "    </tr>\n",
              "  </thead>\n",
              "  <tbody>\n",
              "    <tr>\n",
              "      <th>0</th>\n",
              "      <td>1</td>\n",
              "      <td>1</td>\n",
              "      <td>1</td>\n",
              "      <td>1</td>\n",
              "      <td>1</td>\n",
              "      <td>1</td>\n",
              "      <td>Brentford</td>\n",
              "      <td>Arsenal</td>\n",
              "      <td>H</td>\n",
              "    </tr>\n",
              "    <tr>\n",
              "      <th>1</th>\n",
              "      <td>0</td>\n",
              "      <td>0</td>\n",
              "      <td>0</td>\n",
              "      <td>0</td>\n",
              "      <td>0</td>\n",
              "      <td>0</td>\n",
              "      <td>Man United</td>\n",
              "      <td>Leeds</td>\n",
              "      <td>H</td>\n",
              "    </tr>\n",
              "    <tr>\n",
              "      <th>2</th>\n",
              "      <td>1</td>\n",
              "      <td>1</td>\n",
              "      <td>1</td>\n",
              "      <td>1</td>\n",
              "      <td>1</td>\n",
              "      <td>1</td>\n",
              "      <td>Burnley</td>\n",
              "      <td>Brighton</td>\n",
              "      <td>A</td>\n",
              "    </tr>\n",
              "    <tr>\n",
              "      <th>3</th>\n",
              "      <td>0</td>\n",
              "      <td>0</td>\n",
              "      <td>0</td>\n",
              "      <td>0</td>\n",
              "      <td>0</td>\n",
              "      <td>0</td>\n",
              "      <td>Chelsea</td>\n",
              "      <td>Crystal Palace</td>\n",
              "      <td>H</td>\n",
              "    </tr>\n",
              "    <tr>\n",
              "      <th>4</th>\n",
              "      <td>0</td>\n",
              "      <td>0</td>\n",
              "      <td>0</td>\n",
              "      <td>0</td>\n",
              "      <td>0</td>\n",
              "      <td>0</td>\n",
              "      <td>Everton</td>\n",
              "      <td>Southampton</td>\n",
              "      <td>H</td>\n",
              "    </tr>\n",
              "  </tbody>\n",
              "</table>\n",
              "</div>\n",
              "      <button class=\"colab-df-convert\" onclick=\"convertToInteractive('df-4e27221e-0144-4eaa-820a-bfa03faa6a09')\"\n",
              "              title=\"Convert this dataframe to an interactive table.\"\n",
              "              style=\"display:none;\">\n",
              "        \n",
              "  <svg xmlns=\"http://www.w3.org/2000/svg\" height=\"24px\"viewBox=\"0 0 24 24\"\n",
              "       width=\"24px\">\n",
              "    <path d=\"M0 0h24v24H0V0z\" fill=\"none\"/>\n",
              "    <path d=\"M18.56 5.44l.94 2.06.94-2.06 2.06-.94-2.06-.94-.94-2.06-.94 2.06-2.06.94zm-11 1L8.5 8.5l.94-2.06 2.06-.94-2.06-.94L8.5 2.5l-.94 2.06-2.06.94zm10 10l.94 2.06.94-2.06 2.06-.94-2.06-.94-.94-2.06-.94 2.06-2.06.94z\"/><path d=\"M17.41 7.96l-1.37-1.37c-.4-.4-.92-.59-1.43-.59-.52 0-1.04.2-1.43.59L10.3 9.45l-7.72 7.72c-.78.78-.78 2.05 0 2.83L4 21.41c.39.39.9.59 1.41.59.51 0 1.02-.2 1.41-.59l7.78-7.78 2.81-2.81c.8-.78.8-2.07 0-2.86zM5.41 20L4 18.59l7.72-7.72 1.47 1.35L5.41 20z\"/>\n",
              "  </svg>\n",
              "      </button>\n",
              "      \n",
              "  <style>\n",
              "    .colab-df-container {\n",
              "      display:flex;\n",
              "      flex-wrap:wrap;\n",
              "      gap: 12px;\n",
              "    }\n",
              "\n",
              "    .colab-df-convert {\n",
              "      background-color: #E8F0FE;\n",
              "      border: none;\n",
              "      border-radius: 50%;\n",
              "      cursor: pointer;\n",
              "      display: none;\n",
              "      fill: #1967D2;\n",
              "      height: 32px;\n",
              "      padding: 0 0 0 0;\n",
              "      width: 32px;\n",
              "    }\n",
              "\n",
              "    .colab-df-convert:hover {\n",
              "      background-color: #E2EBFA;\n",
              "      box-shadow: 0px 1px 2px rgba(60, 64, 67, 0.3), 0px 1px 3px 1px rgba(60, 64, 67, 0.15);\n",
              "      fill: #174EA6;\n",
              "    }\n",
              "\n",
              "    [theme=dark] .colab-df-convert {\n",
              "      background-color: #3B4455;\n",
              "      fill: #D2E3FC;\n",
              "    }\n",
              "\n",
              "    [theme=dark] .colab-df-convert:hover {\n",
              "      background-color: #434B5C;\n",
              "      box-shadow: 0px 1px 3px 1px rgba(0, 0, 0, 0.15);\n",
              "      filter: drop-shadow(0px 1px 2px rgba(0, 0, 0, 0.3));\n",
              "      fill: #FFFFFF;\n",
              "    }\n",
              "  </style>\n",
              "\n",
              "      <script>\n",
              "        const buttonEl =\n",
              "          document.querySelector('#df-4e27221e-0144-4eaa-820a-bfa03faa6a09 button.colab-df-convert');\n",
              "        buttonEl.style.display =\n",
              "          google.colab.kernel.accessAllowed ? 'block' : 'none';\n",
              "\n",
              "        async function convertToInteractive(key) {\n",
              "          const element = document.querySelector('#df-4e27221e-0144-4eaa-820a-bfa03faa6a09');\n",
              "          const dataTable =\n",
              "            await google.colab.kernel.invokeFunction('convertToInteractive',\n",
              "                                                     [key], {});\n",
              "          if (!dataTable) return;\n",
              "\n",
              "          const docLinkHtml = 'Like what you see? Visit the ' +\n",
              "            '<a target=\"_blank\" href=https://colab.research.google.com/notebooks/data_table.ipynb>data table notebook</a>'\n",
              "            + ' to learn more about interactive tables.';\n",
              "          element.innerHTML = '';\n",
              "          dataTable['output_type'] = 'display_data';\n",
              "          await google.colab.output.renderOutput(dataTable, element);\n",
              "          const docLink = document.createElement('div');\n",
              "          docLink.innerHTML = docLinkHtml;\n",
              "          element.appendChild(docLink);\n",
              "        }\n",
              "      </script>\n",
              "    </div>\n",
              "  </div>\n",
              "  "
            ]
          },
          "metadata": {},
          "execution_count": 23
        }
      ]
    },
    {
      "cell_type": "code",
      "source": [
        "from sklearn import metrics\n",
        "def make_AUC_ROC(df_odds,feature):\n",
        "  fpr, tpr, thresholds = metrics.roc_curve(np.where(df_odds['FTR']=='A',1,0), df_odds[feature])\n",
        "  auc1 = metrics.auc(fpr,tpr)\n",
        "\n",
        "  plt.plot(fpr, tpr, 'b', label = 'AUC = %0.2f')\n",
        "  plt.ylabel('True Positive Rate')\n",
        "  plt.xlabel('False Positive Rate')\n",
        "  plt.show()\n",
        "  return plt.show()"
      ],
      "metadata": {
        "id": "_owRTQlmQjcp"
      },
      "execution_count": 24,
      "outputs": []
    },
    {
      "cell_type": "code",
      "source": [
        "make_AUC_ROC(df_odds,'B365Odds')\n",
        "make_AUC_ROC(df_odds,'BWOdds')\n",
        "make_AUC_ROC(df_odds,'IWOdds')\n",
        "make_AUC_ROC(df_odds,'PSOdds')\n",
        "make_AUC_ROC(df_odds,'VCOdds')\n",
        "make_AUC_ROC(df_odds,'WHOdds')\n"
      ],
      "metadata": {
        "colab": {
          "base_uri": "https://localhost:8080/",
          "height": 1000
        },
        "id": "3qMV_PCeQjex",
        "outputId": "e149ce23-df61-4f47-9e38-93e7b8152d89"
      },
      "execution_count": 25,
      "outputs": [
        {
          "output_type": "display_data",
          "data": {
            "text/plain": [
              "<Figure size 432x288 with 1 Axes>"
            ],
            "image/png": "[encoded data removed]"
          },
          "metadata": {
            "needs_background": "light"
          }
        },
        {
          "output_type": "display_data",
          "data": {
            "text/plain": [
              "<Figure size 432x288 with 1 Axes>"
            ],
            "image/png": "[encoded data removed]"
          },
          "metadata": {
            "needs_background": "light"
          }
        },
        {
          "output_type": "display_data",
          "data": {
            "text/plain": [
              "<Figure size 432x288 with 1 Axes>"
            ],
            "image/png": "[encoded data removed]"
          },
          "metadata": {
            "needs_background": "light"
          }
        },
        {
          "output_type": "display_data",
          "data": {
            "text/plain": [
              "<Figure size 432x288 with 1 Axes>"
            ],
            "image/png": "[encoded data removed]"
          },
          "metadata": {
            "needs_background": "light"
          }
        },
        {
          "output_type": "display_data",
          "data": {
            "text/plain": [
              "<Figure size 432x288 with 1 Axes>"
            ],
            "image/png": "[encoded data removed]"
          },
          "metadata": {
            "needs_background": "light"
          }
        },
        {
          "output_type": "display_data",
          "data": {
            "text/plain": [
              "<Figure size 432x288 with 1 Axes>"
            ],
            "image/png": "[encoded data removed]"
          },
          "metadata": {
            "needs_background": "light"
          }
        }
      ]
    },
    {
      "cell_type": "code",
      "source": [
        "df_odds.columns"
      ],
      "metadata": {
        "colab": {
          "base_uri": "https://localhost:8080/"
        },
        "id": "8-NkT-ZhkWDp",
        "outputId": "ca0950a8-97a3-4c50-a5ac-c7894c598e11"
      },
      "execution_count": 26,
      "outputs": [
        {
          "output_type": "execute_result",
          "data": {
            "text/plain": [
              "Index(['B365Odds', 'BWOdds', 'IWOdds', 'PSOdds', 'VCOdds', 'WHOdds',\n",
              "       'HomeTeam', 'AwayTeam', 'FTR'],\n",
              "      dtype='object')"
            ]
          },
          "metadata": {},
          "execution_count": 26
        }
      ]
    },
    {
      "cell_type": "code",
      "source": [
        "def check_all_equal(a,b,c,d,e,f):\n",
        "  ls = [a,b,c,d,e,f]\n",
        "  flag = len(set(ls)) == 1\n",
        "  if flag:\n",
        "    return 1\n",
        "  else:\n",
        "    return 0\n",
        "def max_preds(a,b,c,d,e,f):\n",
        "  i = a+b+c+d+e\n",
        "  if i>3:\n",
        "    return 1\n",
        "  else:\n",
        "    return 0\n",
        "df_odds['all_equal'] = df_odds.apply(lambda row: check_all_equal(row['B365Odds'],row['BWOdds'],row['IWOdds'],row['PSOdds'],row['VCOdds'],row['WHOdds']),axis = 1)\n",
        "df_odds['max_odd'] = df_odds.apply(lambda row: max_preds(row['B365Odds'],row['BWOdds'],row['IWOdds'],row['PSOdds'],row['VCOdds'],row['WHOdds']),axis = 1)"
      ],
      "metadata": {
        "colab": {
          "base_uri": "https://localhost:8080/"
        },
        "id": "2x5PitS0ht3z",
        "outputId": "876df203-d0be-4655-f310-aaa8669401d8"
      },
      "execution_count": 27,
      "outputs": [
        {
          "output_type": "stream",
          "name": "stderr",
          "text": [
            "/usr/local/lib/python3.7/dist-packages/ipykernel_launcher.py:14: SettingWithCopyWarning: \n",
            "A value is trying to be set on a copy of a slice from a DataFrame.\n",
            "Try using .loc[row_indexer,col_indexer] = value instead\n",
            "\n",
            "See the caveats in the documentation: https://pandas.pydata.org/pandas-docs/stable/user_guide/indexing.html#returning-a-view-versus-a-copy\n",
            "  \n",
            "/usr/local/lib/python3.7/dist-packages/ipykernel_launcher.py:15: SettingWithCopyWarning: \n",
            "A value is trying to be set on a copy of a slice from a DataFrame.\n",
            "Try using .loc[row_indexer,col_indexer] = value instead\n",
            "\n",
            "See the caveats in the documentation: https://pandas.pydata.org/pandas-docs/stable/user_guide/indexing.html#returning-a-view-versus-a-copy\n",
            "  from ipykernel import kernelapp as app\n"
          ]
        }
      ]
    },
    {
      "cell_type": "code",
      "source": [
        "df_odds['all_equal'].mean()"
      ],
      "metadata": {
        "colab": {
          "base_uri": "https://localhost:8080/"
        },
        "id": "700YlGyAht78",
        "outputId": "1dae8c95-35da-4b9a-ca32-e5439795113c"
      },
      "execution_count": 28,
      "outputs": [
        {
          "output_type": "execute_result",
          "data": {
            "text/plain": [
              "0.9783783783783784"
            ]
          },
          "metadata": {},
          "execution_count": 28
        }
      ]
    },
    {
      "cell_type": "code",
      "source": [
        "df_odds['bool_FTR'] = np.where(df['FTR'] == 'A',1,0)"
      ],
      "metadata": {
        "colab": {
          "base_uri": "https://localhost:8080/"
        },
        "id": "0z1MZS-Wlbnn",
        "outputId": "f61074ef-df34-4349-edd6-e7fdde0e6739"
      },
      "execution_count": 29,
      "outputs": [
        {
          "output_type": "stream",
          "name": "stderr",
          "text": [
            "/usr/local/lib/python3.7/dist-packages/ipykernel_launcher.py:1: SettingWithCopyWarning: \n",
            "A value is trying to be set on a copy of a slice from a DataFrame.\n",
            "Try using .loc[row_indexer,col_indexer] = value instead\n",
            "\n",
            "See the caveats in the documentation: https://pandas.pydata.org/pandas-docs/stable/user_guide/indexing.html#returning-a-view-versus-a-copy\n",
            "  \"\"\"Entry point for launching an IPython kernel.\n"
          ]
        }
      ]
    },
    {
      "cell_type": "code",
      "source": [
        "df_odds.groupby(['max_odd']).agg({'bool_FTR':'mean'})"
      ],
      "metadata": {
        "colab": {
          "base_uri": "https://localhost:8080/",
          "height": 143
        },
        "id": "Te0qROealvOi",
        "outputId": "5be335a7-81a2-4cbc-9a70-a58ab7dc8591"
      },
      "execution_count": 30,
      "outputs": [
        {
          "output_type": "execute_result",
          "data": {
            "text/plain": [
              "         bool_FTR\n",
              "max_odd          \n",
              "0        0.183406\n",
              "1        0.595745"
            ],
            "text/html": [
              "\n",
              "  <div id=\"df-92604b1e-8f5c-4934-bbfe-9f33b2388fc6\">\n",
              "    <div class=\"colab-df-container\">\n",
              "      <div>\n",
              "<style scoped>\n",
              "    .dataframe tbody tr th:only-of-type {\n",
              "        vertical-align: middle;\n",
              "    }\n",
              "\n",
              "    .dataframe tbody tr th {\n",
              "        vertical-align: top;\n",
              "    }\n",
              "\n",
              "    .dataframe thead th {\n",
              "        text-align: right;\n",
              "    }\n",
              "</style>\n",
              "<table border=\"1\" class=\"dataframe\">\n",
              "  <thead>\n",
              "    <tr style=\"text-align: right;\">\n",
              "      <th></th>\n",
              "      <th>bool_FTR</th>\n",
              "    </tr>\n",
              "    <tr>\n",
              "      <th>max_odd</th>\n",
              "      <th></th>\n",
              "    </tr>\n",
              "  </thead>\n",
              "  <tbody>\n",
              "    <tr>\n",
              "      <th>0</th>\n",
              "      <td>0.183406</td>\n",
              "    </tr>\n",
              "    <tr>\n",
              "      <th>1</th>\n",
              "      <td>0.595745</td>\n",
              "    </tr>\n",
              "  </tbody>\n",
              "</table>\n",
              "</div>\n",
              "      <button class=\"colab-df-convert\" onclick=\"convertToInteractive('df-92604b1e-8f5c-4934-bbfe-9f33b2388fc6')\"\n",
              "              title=\"Convert this dataframe to an interactive table.\"\n",
              "              style=\"display:none;\">\n",
              "        \n",
              "  <svg xmlns=\"http://www.w3.org/2000/svg\" height=\"24px\"viewBox=\"0 0 24 24\"\n",
              "       width=\"24px\">\n",
              "    <path d=\"M0 0h24v24H0V0z\" fill=\"none\"/>\n",
              "    <path d=\"M18.56 5.44l.94 2.06.94-2.06 2.06-.94-2.06-.94-.94-2.06-.94 2.06-2.06.94zm-11 1L8.5 8.5l.94-2.06 2.06-.94-2.06-.94L8.5 2.5l-.94 2.06-2.06.94zm10 10l.94 2.06.94-2.06 2.06-.94-2.06-.94-.94-2.06-.94 2.06-2.06.94z\"/><path d=\"M17.41 7.96l-1.37-1.37c-.4-.4-.92-.59-1.43-.59-.52 0-1.04.2-1.43.59L10.3 9.45l-7.72 7.72c-.78.78-.78 2.05 0 2.83L4 21.41c.39.39.9.59 1.41.59.51 0 1.02-.2 1.41-.59l7.78-7.78 2.81-2.81c.8-.78.8-2.07 0-2.86zM5.41 20L4 18.59l7.72-7.72 1.47 1.35L5.41 20z\"/>\n",
              "  </svg>\n",
              "      </button>\n",
              "      \n",
              "  <style>\n",
              "    .colab-df-container {\n",
              "      display:flex;\n",
              "      flex-wrap:wrap;\n",
              "      gap: 12px;\n",
              "    }\n",
              "\n",
              "    .colab-df-convert {\n",
              "      background-color: #E8F0FE;\n",
              "      border: none;\n",
              "      border-radius: 50%;\n",
              "      cursor: pointer;\n",
              "      display: none;\n",
              "      fill: #1967D2;\n",
              "      height: 32px;\n",
              "      padding: 0 0 0 0;\n",
              "      width: 32px;\n",
              "    }\n",
              "\n",
              "    .colab-df-convert:hover {\n",
              "      background-color: #E2EBFA;\n",
              "      box-shadow: 0px 1px 2px rgba(60, 64, 67, 0.3), 0px 1px 3px 1px rgba(60, 64, 67, 0.15);\n",
              "      fill: #174EA6;\n",
              "    }\n",
              "\n",
              "    [theme=dark] .colab-df-convert {\n",
              "      background-color: #3B4455;\n",
              "      fill: #D2E3FC;\n",
              "    }\n",
              "\n",
              "    [theme=dark] .colab-df-convert:hover {\n",
              "      background-color: #434B5C;\n",
              "      box-shadow: 0px 1px 3px 1px rgba(0, 0, 0, 0.15);\n",
              "      filter: drop-shadow(0px 1px 2px rgba(0, 0, 0, 0.3));\n",
              "      fill: #FFFFFF;\n",
              "    }\n",
              "  </style>\n",
              "\n",
              "      <script>\n",
              "        const buttonEl =\n",
              "          document.querySelector('#df-92604b1e-8f5c-4934-bbfe-9f33b2388fc6 button.colab-df-convert');\n",
              "        buttonEl.style.display =\n",
              "          google.colab.kernel.accessAllowed ? 'block' : 'none';\n",
              "\n",
              "        async function convertToInteractive(key) {\n",
              "          const element = document.querySelector('#df-92604b1e-8f5c-4934-bbfe-9f33b2388fc6');\n",
              "          const dataTable =\n",
              "            await google.colab.kernel.invokeFunction('convertToInteractive',\n",
              "                                                     [key], {});\n",
              "          if (!dataTable) return;\n",
              "\n",
              "          const docLinkHtml = 'Like what you see? Visit the ' +\n",
              "            '<a target=\"_blank\" href=https://colab.research.google.com/notebooks/data_table.ipynb>data table notebook</a>'\n",
              "            + ' to learn more about interactive tables.';\n",
              "          element.innerHTML = '';\n",
              "          dataTable['output_type'] = 'display_data';\n",
              "          await google.colab.output.renderOutput(dataTable, element);\n",
              "          const docLink = document.createElement('div');\n",
              "          docLink.innerHTML = docLinkHtml;\n",
              "          element.appendChild(docLink);\n",
              "        }\n",
              "      </script>\n",
              "    </div>\n",
              "  </div>\n",
              "  "
            ]
          },
          "metadata": {},
          "execution_count": 30
        }
      ]
    },
    {
      "cell_type": "markdown",
      "source": [
        "We will do same analysis on Maximum and average odds also and comapre the results with final FTR"
      ],
      "metadata": {
        "id": "jgPL3TCPX6rI"
      }
    },
    {
      "cell_type": "markdown",
      "source": [
        "We get the same result as in our previous Analysis have on Odds of other companies"
      ],
      "metadata": {
        "id": "39UsY8tlZep-"
      }
    },
    {
      "cell_type": "code",
      "source": [
        "strs1 = ['Max','Avg']\n",
        "for i in strs1:\n",
        "  df[i+'Odds'] = df.apply (lambda row: convert_binary(row[i+'H'],row[i+'D'],row[i+'A']), axis=1)\n",
        "cols_needed = [a+'Odds' for a in strs1] + ['HomeTeam','AwayTeam','FTR']\n",
        "df_max_odds = df[cols_needed]"
      ],
      "metadata": {
        "id": "ICcIu0kPlvQ4"
      },
      "execution_count": 31,
      "outputs": []
    },
    {
      "cell_type": "code",
      "source": [
        "df_max_odds.head()"
      ],
      "metadata": {
        "id": "vv6IJ1KFolzl",
        "colab": {
          "base_uri": "https://localhost:8080/",
          "height": 206
        },
        "outputId": "5d80b652-a0c0-4ab5-bf46-3dc063b406bd"
      },
      "execution_count": 32,
      "outputs": [
        {
          "output_type": "execute_result",
          "data": {
            "text/plain": [
              "   MaxOdds  AvgOdds    HomeTeam        AwayTeam FTR\n",
              "0        1        1   Brentford         Arsenal   H\n",
              "1        0        0  Man United           Leeds   H\n",
              "2        1        1     Burnley        Brighton   A\n",
              "3        0        0     Chelsea  Crystal Palace   H\n",
              "4        0        0     Everton     Southampton   H"
            ],
            "text/html": [
              "\n",
              "  <div id=\"df-0bd3be47-2972-4d66-b6ef-51634e531a1a\">\n",
              "    <div class=\"colab-df-container\">\n",
              "      <div>\n",
              "<style scoped>\n",
              "    .dataframe tbody tr th:only-of-type {\n",
              "        vertical-align: middle;\n",
              "    }\n",
              "\n",
              "    .dataframe tbody tr th {\n",
              "        vertical-align: top;\n",
              "    }\n",
              "\n",
              "    .dataframe thead th {\n",
              "        text-align: right;\n",
              "    }\n",
              "</style>\n",
              "<table border=\"1\" class=\"dataframe\">\n",
              "  <thead>\n",
              "    <tr style=\"text-align: right;\">\n",
              "      <th></th>\n",
              "      <th>MaxOdds</th>\n",
              "      <th>AvgOdds</th>\n",
              "      <th>HomeTeam</th>\n",
              "      <th>AwayTeam</th>\n",
              "      <th>FTR</th>\n",
              "    </tr>\n",
              "  </thead>\n",
              "  <tbody>\n",
              "    <tr>\n",
              "      <th>0</th>\n",
              "      <td>1</td>\n",
              "      <td>1</td>\n",
              "      <td>Brentford</td>\n",
              "      <td>Arsenal</td>\n",
              "      <td>H</td>\n",
              "    </tr>\n",
              "    <tr>\n",
              "      <th>1</th>\n",
              "      <td>0</td>\n",
              "      <td>0</td>\n",
              "      <td>Man United</td>\n",
              "      <td>Leeds</td>\n",
              "      <td>H</td>\n",
              "    </tr>\n",
              "    <tr>\n",
              "      <th>2</th>\n",
              "      <td>1</td>\n",
              "      <td>1</td>\n",
              "      <td>Burnley</td>\n",
              "      <td>Brighton</td>\n",
              "      <td>A</td>\n",
              "    </tr>\n",
              "    <tr>\n",
              "      <th>3</th>\n",
              "      <td>0</td>\n",
              "      <td>0</td>\n",
              "      <td>Chelsea</td>\n",
              "      <td>Crystal Palace</td>\n",
              "      <td>H</td>\n",
              "    </tr>\n",
              "    <tr>\n",
              "      <th>4</th>\n",
              "      <td>0</td>\n",
              "      <td>0</td>\n",
              "      <td>Everton</td>\n",
              "      <td>Southampton</td>\n",
              "      <td>H</td>\n",
              "    </tr>\n",
              "  </tbody>\n",
              "</table>\n",
              "</div>\n",
              "      <button class=\"colab-df-convert\" onclick=\"convertToInteractive('df-0bd3be47-2972-4d66-b6ef-51634e531a1a')\"\n",
              "              title=\"Convert this dataframe to an interactive table.\"\n",
              "              style=\"display:none;\">\n",
              "        \n",
              "  <svg xmlns=\"http://www.w3.org/2000/svg\" height=\"24px\"viewBox=\"0 0 24 24\"\n",
              "       width=\"24px\">\n",
              "    <path d=\"M0 0h24v24H0V0z\" fill=\"none\"/>\n",
              "    <path d=\"M18.56 5.44l.94 2.06.94-2.06 2.06-.94-2.06-.94-.94-2.06-.94 2.06-2.06.94zm-11 1L8.5 8.5l.94-2.06 2.06-.94-2.06-.94L8.5 2.5l-.94 2.06-2.06.94zm10 10l.94 2.06.94-2.06 2.06-.94-2.06-.94-.94-2.06-.94 2.06-2.06.94z\"/><path d=\"M17.41 7.96l-1.37-1.37c-.4-.4-.92-.59-1.43-.59-.52 0-1.04.2-1.43.59L10.3 9.45l-7.72 7.72c-.78.78-.78 2.05 0 2.83L4 21.41c.39.39.9.59 1.41.59.51 0 1.02-.2 1.41-.59l7.78-7.78 2.81-2.81c.8-.78.8-2.07 0-2.86zM5.41 20L4 18.59l7.72-7.72 1.47 1.35L5.41 20z\"/>\n",
              "  </svg>\n",
              "      </button>\n",
              "      \n",
              "  <style>\n",
              "    .colab-df-container {\n",
              "      display:flex;\n",
              "      flex-wrap:wrap;\n",
              "      gap: 12px;\n",
              "    }\n",
              "\n",
              "    .colab-df-convert {\n",
              "      background-color: #E8F0FE;\n",
              "      border: none;\n",
              "      border-radius: 50%;\n",
              "      cursor: pointer;\n",
              "      display: none;\n",
              "      fill: #1967D2;\n",
              "      height: 32px;\n",
              "      padding: 0 0 0 0;\n",
              "      width: 32px;\n",
              "    }\n",
              "\n",
              "    .colab-df-convert:hover {\n",
              "      background-color: #E2EBFA;\n",
              "      box-shadow: 0px 1px 2px rgba(60, 64, 67, 0.3), 0px 1px 3px 1px rgba(60, 64, 67, 0.15);\n",
              "      fill: #174EA6;\n",
              "    }\n",
              "\n",
              "    [theme=dark] .colab-df-convert {\n",
              "      background-color: #3B4455;\n",
              "      fill: #D2E3FC;\n",
              "    }\n",
              "\n",
              "    [theme=dark] .colab-df-convert:hover {\n",
              "      background-color: #434B5C;\n",
              "      box-shadow: 0px 1px 3px 1px rgba(0, 0, 0, 0.15);\n",
              "      filter: drop-shadow(0px 1px 2px rgba(0, 0, 0, 0.3));\n",
              "      fill: #FFFFFF;\n",
              "    }\n",
              "  </style>\n",
              "\n",
              "      <script>\n",
              "        const buttonEl =\n",
              "          document.querySelector('#df-0bd3be47-2972-4d66-b6ef-51634e531a1a button.colab-df-convert');\n",
              "        buttonEl.style.display =\n",
              "          google.colab.kernel.accessAllowed ? 'block' : 'none';\n",
              "\n",
              "        async function convertToInteractive(key) {\n",
              "          const element = document.querySelector('#df-0bd3be47-2972-4d66-b6ef-51634e531a1a');\n",
              "          const dataTable =\n",
              "            await google.colab.kernel.invokeFunction('convertToInteractive',\n",
              "                                                     [key], {});\n",
              "          if (!dataTable) return;\n",
              "\n",
              "          const docLinkHtml = 'Like what you see? Visit the ' +\n",
              "            '<a target=\"_blank\" href=https://colab.research.google.com/notebooks/data_table.ipynb>data table notebook</a>'\n",
              "            + ' to learn more about interactive tables.';\n",
              "          element.innerHTML = '';\n",
              "          dataTable['output_type'] = 'display_data';\n",
              "          await google.colab.output.renderOutput(dataTable, element);\n",
              "          const docLink = document.createElement('div');\n",
              "          docLink.innerHTML = docLinkHtml;\n",
              "          element.appendChild(docLink);\n",
              "        }\n",
              "      </script>\n",
              "    </div>\n",
              "  </div>\n",
              "  "
            ]
          },
          "metadata": {},
          "execution_count": 32
        }
      ]
    },
    {
      "cell_type": "code",
      "source": [
        "make_AUC_ROC(df_max_odds,'MaxOdds')\n",
        "make_AUC_ROC(df_max_odds,'AvgOdds')"
      ],
      "metadata": {
        "id": "1_QEhAoTol1b",
        "colab": {
          "base_uri": "https://localhost:8080/",
          "height": 541
        },
        "outputId": "a67629e3-1b05-449f-8962-3385ba8635e7"
      },
      "execution_count": 33,
      "outputs": [
        {
          "output_type": "display_data",
          "data": {
            "text/plain": [
              "<Figure size 432x288 with 1 Axes>"
            ],
            "image/png": "[encoded data removed]"
          },
          "metadata": {
            "needs_background": "light"
          }
        },
        {
          "output_type": "display_data",
          "data": {
            "text/plain": [
              "<Figure size 432x288 with 1 Axes>"
            ],
            "image/png": "[encoded data removed]"
          },
          "metadata": {
            "needs_background": "light"
          }
        }
      ]
    },
    {
      "cell_type": "code",
      "source": [
        "df['MaxOdds'] = df_max_odds['MaxOdds']\n",
        "df['AvgOdds'] = df_max_odds['AvgOdds']"
      ],
      "metadata": {
        "id": "-ceQF3zx60jO"
      },
      "execution_count": 34,
      "outputs": []
    },
    {
      "cell_type": "code",
      "source": [
        "def max_preds(a,b,c,d,e,f,g,h):\n",
        "  i = a+b+c+d+e\n",
        "  if i>3:\n",
        "    return 1\n",
        "  else:\n",
        "    return 0\n",
        "df['max_preds_odds'] = df.apply(lambda row: max_preds(row['B365Odds'],row['BWOdds'],row['IWOdds'],row['PSOdds'],row['VCOdds'],row['WHOdds'],row['MaxOdds'],row['AvgOdds']),axis = 1)"
      ],
      "metadata": {
        "id": "EATbTHft5QRY"
      },
      "execution_count": 35,
      "outputs": []
    },
    {
      "cell_type": "markdown",
      "source": [
        "Now we check for features with Under/Over 2.5 Goals.These feature looks like independent of winning team but we can check how good their predictions is "
      ],
      "metadata": {
        "id": "6nZIJXtTZ2iE"
      }
    },
    {
      "cell_type": "markdown",
      "source": [
        "https://www.squawka.com/en/bet/football-tips/over-2-5-goals/"
      ],
      "metadata": {
        "id": "eQJBuSOPaz_4"
      }
    },
    {
      "cell_type": "code",
      "source": [
        "# CHeck the odds for over 2.5 goals or not\n",
        "def convert_binary(x,y):\n",
        "  probO = x\n",
        "  probU = y\n",
        "  h,d = (1/probO)*100,(1/probU)*100\n",
        "  total = h+d\n",
        "  h,d = (h/total)*100,(d/total)*100\n",
        "  if h>d:\n",
        "    return 1\n",
        "  else: return 0"
      ],
      "metadata": {
        "id": "4n4eF0kZZdEi"
      },
      "execution_count": 36,
      "outputs": []
    },
    {
      "cell_type": "code",
      "source": [
        "df['Over2.5'] = df.apply(lambda row: convert_binary(row['B365>2.5'],row['B365<2.5']),axis = 1)"
      ],
      "metadata": {
        "id": "ze9_xSduZdGR"
      },
      "execution_count": 37,
      "outputs": []
    },
    {
      "cell_type": "code",
      "source": [
        "df_over = df[['Over2.5','HomeTeam', 'AwayTeam', 'FTHG', 'FTAG', 'FTR', 'HTHG','HTAG', 'HTR']]"
      ],
      "metadata": {
        "id": "GH4Ipda1ZdJs"
      },
      "execution_count": 38,
      "outputs": []
    },
    {
      "cell_type": "code",
      "source": [
        "df_over['Total_goals'] = df.apply(lambda row: row['FTHG'] + row['FTAG'],axis = 1)"
      ],
      "metadata": {
        "id": "eSQfGU67htBt",
        "colab": {
          "base_uri": "https://localhost:8080/"
        },
        "outputId": "f40c24b7-975d-4744-8960-be0e1a915778"
      },
      "execution_count": 39,
      "outputs": [
        {
          "output_type": "stream",
          "name": "stderr",
          "text": [
            "/usr/local/lib/python3.7/dist-packages/ipykernel_launcher.py:1: SettingWithCopyWarning: \n",
            "A value is trying to be set on a copy of a slice from a DataFrame.\n",
            "Try using .loc[row_indexer,col_indexer] = value instead\n",
            "\n",
            "See the caveats in the documentation: https://pandas.pydata.org/pandas-docs/stable/user_guide/indexing.html#returning-a-view-versus-a-copy\n",
            "  \"\"\"Entry point for launching an IPython kernel.\n"
          ]
        }
      ]
    },
    {
      "cell_type": "code",
      "source": [
        "df_over['FTR'] = np.where(df['FTR'] == 'A',1,0)"
      ],
      "metadata": {
        "id": "FOSUmTTHhtFD",
        "colab": {
          "base_uri": "https://localhost:8080/"
        },
        "outputId": "09ba9f27-5084-4d57-af9a-14606621769e"
      },
      "execution_count": 40,
      "outputs": [
        {
          "output_type": "stream",
          "name": "stderr",
          "text": [
            "/usr/local/lib/python3.7/dist-packages/ipykernel_launcher.py:1: SettingWithCopyWarning: \n",
            "A value is trying to be set on a copy of a slice from a DataFrame.\n",
            "Try using .loc[row_indexer,col_indexer] = value instead\n",
            "\n",
            "See the caveats in the documentation: https://pandas.pydata.org/pandas-docs/stable/user_guide/indexing.html#returning-a-view-versus-a-copy\n",
            "  \"\"\"Entry point for launching an IPython kernel.\n"
          ]
        }
      ]
    },
    {
      "cell_type": "code",
      "source": [
        "df_over.head()"
      ],
      "metadata": {
        "id": "8ZHZSNsAhtHt",
        "colab": {
          "base_uri": "https://localhost:8080/",
          "height": 206
        },
        "outputId": "0d4cb6ac-1599-4f76-b431-bf75f34bd773"
      },
      "execution_count": 41,
      "outputs": [
        {
          "output_type": "execute_result",
          "data": {
            "text/plain": [
              "   Over2.5    HomeTeam        AwayTeam  FTHG  FTAG  FTR  HTHG  HTAG HTR  \\\n",
              "0        0   Brentford         Arsenal     2     0    0     1     0   H   \n",
              "1        1  Man United           Leeds     5     1    0     1     0   H   \n",
              "2        0     Burnley        Brighton     1     2    1     1     0   H   \n",
              "3        1     Chelsea  Crystal Palace     3     0    0     2     0   H   \n",
              "4        0     Everton     Southampton     3     1    0     0     1   A   \n",
              "\n",
              "   Total_goals  \n",
              "0            2  \n",
              "1            6  \n",
              "2            3  \n",
              "3            3  \n",
              "4            4  "
            ],
            "text/html": [
              "\n",
              "  <div id=\"df-5ca54400-f5f6-4aae-ae29-ae5b04c480a9\">\n",
              "    <div class=\"colab-df-container\">\n",
              "      <div>\n",
              "<style scoped>\n",
              "    .dataframe tbody tr th:only-of-type {\n",
              "        vertical-align: middle;\n",
              "    }\n",
              "\n",
              "    .dataframe tbody tr th {\n",
              "        vertical-align: top;\n",
              "    }\n",
              "\n",
              "    .dataframe thead th {\n",
              "        text-align: right;\n",
              "    }\n",
              "</style>\n",
              "<table border=\"1\" class=\"dataframe\">\n",
              "  <thead>\n",
              "    <tr style=\"text-align: right;\">\n",
              "      <th></th>\n",
              "      <th>Over2.5</th>\n",
              "      <th>HomeTeam</th>\n",
              "      <th>AwayTeam</th>\n",
              "      <th>FTHG</th>\n",
              "      <th>FTAG</th>\n",
              "      <th>FTR</th>\n",
              "      <th>HTHG</th>\n",
              "      <th>HTAG</th>\n",
              "      <th>HTR</th>\n",
              "      <th>Total_goals</th>\n",
              "    </tr>\n",
              "  </thead>\n",
              "  <tbody>\n",
              "    <tr>\n",
              "      <th>0</th>\n",
              "      <td>0</td>\n",
              "      <td>Brentford</td>\n",
              "      <td>Arsenal</td>\n",
              "      <td>2</td>\n",
              "      <td>0</td>\n",
              "      <td>0</td>\n",
              "      <td>1</td>\n",
              "      <td>0</td>\n",
              "      <td>H</td>\n",
              "      <td>2</td>\n",
              "    </tr>\n",
              "    <tr>\n",
              "      <th>1</th>\n",
              "      <td>1</td>\n",
              "      <td>Man United</td>\n",
              "      <td>Leeds</td>\n",
              "      <td>5</td>\n",
              "      <td>1</td>\n",
              "      <td>0</td>\n",
              "      <td>1</td>\n",
              "      <td>0</td>\n",
              "      <td>H</td>\n",
              "      <td>6</td>\n",
              "    </tr>\n",
              "    <tr>\n",
              "      <th>2</th>\n",
              "      <td>0</td>\n",
              "      <td>Burnley</td>\n",
              "      <td>Brighton</td>\n",
              "      <td>1</td>\n",
              "      <td>2</td>\n",
              "      <td>1</td>\n",
              "      <td>1</td>\n",
              "      <td>0</td>\n",
              "      <td>H</td>\n",
              "      <td>3</td>\n",
              "    </tr>\n",
              "    <tr>\n",
              "      <th>3</th>\n",
              "      <td>1</td>\n",
              "      <td>Chelsea</td>\n",
              "      <td>Crystal Palace</td>\n",
              "      <td>3</td>\n",
              "      <td>0</td>\n",
              "      <td>0</td>\n",
              "      <td>2</td>\n",
              "      <td>0</td>\n",
              "      <td>H</td>\n",
              "      <td>3</td>\n",
              "    </tr>\n",
              "    <tr>\n",
              "      <th>4</th>\n",
              "      <td>0</td>\n",
              "      <td>Everton</td>\n",
              "      <td>Southampton</td>\n",
              "      <td>3</td>\n",
              "      <td>1</td>\n",
              "      <td>0</td>\n",
              "      <td>0</td>\n",
              "      <td>1</td>\n",
              "      <td>A</td>\n",
              "      <td>4</td>\n",
              "    </tr>\n",
              "  </tbody>\n",
              "</table>\n",
              "</div>\n",
              "      <button class=\"colab-df-convert\" onclick=\"convertToInteractive('df-5ca54400-f5f6-4aae-ae29-ae5b04c480a9')\"\n",
              "              title=\"Convert this dataframe to an interactive table.\"\n",
              "              style=\"display:none;\">\n",
              "        \n",
              "  <svg xmlns=\"http://www.w3.org/2000/svg\" height=\"24px\"viewBox=\"0 0 24 24\"\n",
              "       width=\"24px\">\n",
              "    <path d=\"M0 0h24v24H0V0z\" fill=\"none\"/>\n",
              "    <path d=\"M18.56 5.44l.94 2.06.94-2.06 2.06-.94-2.06-.94-.94-2.06-.94 2.06-2.06.94zm-11 1L8.5 8.5l.94-2.06 2.06-.94-2.06-.94L8.5 2.5l-.94 2.06-2.06.94zm10 10l.94 2.06.94-2.06 2.06-.94-2.06-.94-.94-2.06-.94 2.06-2.06.94z\"/><path d=\"M17.41 7.96l-1.37-1.37c-.4-.4-.92-.59-1.43-.59-.52 0-1.04.2-1.43.59L10.3 9.45l-7.72 7.72c-.78.78-.78 2.05 0 2.83L4 21.41c.39.39.9.59 1.41.59.51 0 1.02-.2 1.41-.59l7.78-7.78 2.81-2.81c.8-.78.8-2.07 0-2.86zM5.41 20L4 18.59l7.72-7.72 1.47 1.35L5.41 20z\"/>\n",
              "  </svg>\n",
              "      </button>\n",
              "      \n",
              "  <style>\n",
              "    .colab-df-container {\n",
              "      display:flex;\n",
              "      flex-wrap:wrap;\n",
              "      gap: 12px;\n",
              "    }\n",
              "\n",
              "    .colab-df-convert {\n",
              "      background-color: #E8F0FE;\n",
              "      border: none;\n",
              "      border-radius: 50%;\n",
              "      cursor: pointer;\n",
              "      display: none;\n",
              "      fill: #1967D2;\n",
              "      height: 32px;\n",
              "      padding: 0 0 0 0;\n",
              "      width: 32px;\n",
              "    }\n",
              "\n",
              "    .colab-df-convert:hover {\n",
              "      background-color: #E2EBFA;\n",
              "      box-shadow: 0px 1px 2px rgba(60, 64, 67, 0.3), 0px 1px 3px 1px rgba(60, 64, 67, 0.15);\n",
              "      fill: #174EA6;\n",
              "    }\n",
              "\n",
              "    [theme=dark] .colab-df-convert {\n",
              "      background-color: #3B4455;\n",
              "      fill: #D2E3FC;\n",
              "    }\n",
              "\n",
              "    [theme=dark] .colab-df-convert:hover {\n",
              "      background-color: #434B5C;\n",
              "      box-shadow: 0px 1px 3px 1px rgba(0, 0, 0, 0.15);\n",
              "      filter: drop-shadow(0px 1px 2px rgba(0, 0, 0, 0.3));\n",
              "      fill: #FFFFFF;\n",
              "    }\n",
              "  </style>\n",
              "\n",
              "      <script>\n",
              "        const buttonEl =\n",
              "          document.querySelector('#df-5ca54400-f5f6-4aae-ae29-ae5b04c480a9 button.colab-df-convert');\n",
              "        buttonEl.style.display =\n",
              "          google.colab.kernel.accessAllowed ? 'block' : 'none';\n",
              "\n",
              "        async function convertToInteractive(key) {\n",
              "          const element = document.querySelector('#df-5ca54400-f5f6-4aae-ae29-ae5b04c480a9');\n",
              "          const dataTable =\n",
              "            await google.colab.kernel.invokeFunction('convertToInteractive',\n",
              "                                                     [key], {});\n",
              "          if (!dataTable) return;\n",
              "\n",
              "          const docLinkHtml = 'Like what you see? Visit the ' +\n",
              "            '<a target=\"_blank\" href=https://colab.research.google.com/notebooks/data_table.ipynb>data table notebook</a>'\n",
              "            + ' to learn more about interactive tables.';\n",
              "          element.innerHTML = '';\n",
              "          dataTable['output_type'] = 'display_data';\n",
              "          await google.colab.output.renderOutput(dataTable, element);\n",
              "          const docLink = document.createElement('div');\n",
              "          docLink.innerHTML = docLinkHtml;\n",
              "          element.appendChild(docLink);\n",
              "        }\n",
              "      </script>\n",
              "    </div>\n",
              "  </div>\n",
              "  "
            ]
          },
          "metadata": {},
          "execution_count": 41
        }
      ]
    },
    {
      "cell_type": "code",
      "source": [
        "def check(x,y):\n",
        "  if x > 2 and y == 1:\n",
        "    return 1\n",
        "  if x <=2 and y == 0:\n",
        "    return 1\n",
        "  else:\n",
        "    return 0\n",
        "df['check_equal'] = df_over.apply(lambda row: check(row['Total_goals'],row['Over2.5']),axis = 1)"
      ],
      "metadata": {
        "id": "ho6hMF9BkKCZ"
      },
      "execution_count": 42,
      "outputs": []
    },
    {
      "cell_type": "code",
      "source": [
        "df['check_equal'].mean()"
      ],
      "metadata": {
        "colab": {
          "base_uri": "https://localhost:8080/"
        },
        "id": "1saZkzEEkKEU",
        "outputId": "b87fb920-3023-41ce-8841-57d7bbf2d4b0"
      },
      "execution_count": 43,
      "outputs": [
        {
          "output_type": "execute_result",
          "data": {
            "text/plain": [
              "0.527027027027027"
            ]
          },
          "metadata": {},
          "execution_count": 43
        }
      ]
    },
    {
      "cell_type": "markdown",
      "source": [
        "We can clearly see that Over 2.5 goals is not that good ratio to measure the number of goals it has 52% correct predictions on number of goals.\n",
        "We wil do analysis over this feature but for now this will not show any result on predicting outcome.\n",
        "\n",
        "We will frop this features"
      ],
      "metadata": {
        "id": "ykWJgwXnn45y"
      }
    },
    {
      "cell_type": "markdown",
      "source": [
        "Check for HandiCap bettings \n",
        "I didnt get the exact terminologies of these handicap\n",
        "https://www.unibet.co.uk/betting/guides/asian-handicap-explained-1.1008345\n",
        "\n",
        "These are links from which I studied and understand"
      ],
      "metadata": {
        "id": "UIcyLYjPjmZ_"
      }
    },
    {
      "cell_type": "markdown",
      "source": [
        "From the Handicap values we can clearly say that which team is stronger"
      ],
      "metadata": {
        "id": "zyooSE74kLl-"
      }
    },
    {
      "cell_type": "markdown",
      "source": [
        "From +ve,-ve values means the goals decided before match to keep the probabilty equal for both the team\n",
        "I will convert it into binary and model will learn the things"
      ],
      "metadata": {
        "id": "6N_hThNolMUM"
      }
    },
    {
      "cell_type": "markdown",
      "source": [
        "# We will check the closing odds with earlier odds and check the change"
      ],
      "metadata": {
        "id": "U-HrFLLwmSVc"
      }
    },
    {
      "cell_type": "code",
      "source": [
        "pfig, (ax1, ax2) = plt.subplots(1,2, figsize=(20,8))\n",
        "sns.kdeplot(df['B365AHH'],ax = ax1)\n",
        "sns.kdeplot(df['B365AHA'],ax = ax2)\n",
        "plt.show()"
      ],
      "metadata": {
        "colab": {
          "base_uri": "https://localhost:8080/",
          "height": 497
        },
        "id": "w-rTqZrAkKIO",
        "outputId": "0f180ce5-09df-49c2-cd1d-fcc3e90fe66f"
      },
      "execution_count": 44,
      "outputs": [
        {
          "output_type": "display_data",
          "data": {
            "text/plain": [
              "<Figure size 1440x576 with 2 Axes>"
            ],
            "image/png": "[encoded data removed]"
          },
          "metadata": {
            "needs_background": "light"
          }
        }
      ]
    },
    {
      "cell_type": "code",
      "source": [
        "pfig, (ax1, ax2) = plt.subplots(1,2, figsize=(20,8))\n",
        "sns.kdeplot(df['PAHH'],ax = ax1)\n",
        "sns.kdeplot(df['PAHA'],ax = ax2)\n",
        "plt.show()"
      ],
      "metadata": {
        "colab": {
          "base_uri": "https://localhost:8080/",
          "height": 497
        },
        "id": "1MoVjrt-kKKT",
        "outputId": "f095e9b7-8462-469b-fd89-92288bfcbe5b"
      },
      "execution_count": 45,
      "outputs": [
        {
          "output_type": "display_data",
          "data": {
            "text/plain": [
              "<Figure size 1440x576 with 2 Axes>"
            ],
            "image/png": "[encoded data removed]"
          },
          "metadata": {
            "needs_background": "light"
          }
        }
      ]
    },
    {
      "cell_type": "markdown",
      "source": [
        "There is not much difference in their distribution and their differences"
      ],
      "metadata": {
        "id": "AxqoU2fpr_av"
      }
    },
    {
      "cell_type": "markdown",
      "source": [
        "All the Values of Asian Handicap is somewhat similar for the Home and Away odds so we can drop the feature as we get the information from AhH"
      ],
      "metadata": {
        "id": "zAPxPX6BsMu3"
      }
    },
    {
      "cell_type": "code",
      "source": [
        ""
      ],
      "metadata": {
        "id": "rD_z-aFvkKTi"
      },
      "execution_count": 45,
      "outputs": []
    },
    {
      "cell_type": "markdown",
      "source": [
        "Now we need to check the closing odds also and see if there is any difference in earlier odds and closing odds\n"
      ],
      "metadata": {
        "id": "45RbddXcsbDh"
      }
    },
    {
      "cell_type": "code",
      "source": [
        ""
      ],
      "metadata": {
        "id": "9YSooKiRkKWZ"
      },
      "execution_count": 45,
      "outputs": []
    },
    {
      "cell_type": "code",
      "source": [
        "# Getting the Probability of Winning according to B365\n",
        "def convert_binary(x,y,z):\n",
        "  probH = x\n",
        "  probD = y\n",
        "  probA = z\n",
        "  h,d,a = (1/probH)*100,(1/probD)*100,(1/probA)*100\n",
        "  total = h+d+a\n",
        "  h,d,a = (h/total)*100,(d/total)*100,(a/total)*100\n",
        "  max_h = max(h,d)\n",
        "  if a > max_h:\n",
        "    return 1\n",
        "  else: return 0"
      ],
      "metadata": {
        "id": "wdiTpTDNt5wW"
      },
      "execution_count": 46,
      "outputs": []
    },
    {
      "cell_type": "code",
      "source": [
        "df['B365Odds'] = df.apply(lambda row: convert_binary(row['B365H'],row['B365D'],row['B365A']),axis = 1)\n",
        "df['B365COdds'] = df.apply(lambda row: convert_binary(row['B365CH'],row['B365CD'],row['B365CA']),axis = 1)"
      ],
      "metadata": {
        "id": "4KZy96Wut5uY"
      },
      "execution_count": 47,
      "outputs": []
    },
    {
      "cell_type": "markdown",
      "source": [
        "From this it is clearly state that 97% of time betting percentage winning not changes"
      ],
      "metadata": {
        "id": "cMWuj1ASvt1E"
      }
    },
    {
      "cell_type": "code",
      "source": [
        "np.where(df['B365Odds'] == df['B365COdds'],1,0).mean()"
      ],
      "metadata": {
        "colab": {
          "base_uri": "https://localhost:8080/"
        },
        "id": "CnHAMh3qt5rj",
        "outputId": "ad7ee052-7277-4e96-fdad-01ed9bfb01b2"
      },
      "execution_count": 48,
      "outputs": [
        {
          "output_type": "execute_result",
          "data": {
            "text/plain": [
              "0.9675675675675676"
            ]
          },
          "metadata": {},
          "execution_count": 48
        }
      ]
    },
    {
      "cell_type": "code",
      "source": [
        "# check for remain percentage as it is one the key factor to determine winner and might be anything that change at the end moment\n",
        "df_closing = df.loc[df['B365Odds'] != df['B365COdds']]"
      ],
      "metadata": {
        "id": "uPy8Iv6mt5pZ"
      },
      "execution_count": 49,
      "outputs": []
    },
    {
      "cell_type": "code",
      "source": [
        "len(df_closing)"
      ],
      "metadata": {
        "colab": {
          "base_uri": "https://localhost:8080/"
        },
        "id": "h96m0adlkKZe",
        "outputId": "17d7b526-19e2-4a2e-fc25-c1de0515270d"
      },
      "execution_count": 50,
      "outputs": [
        {
          "output_type": "execute_result",
          "data": {
            "text/plain": [
              "12"
            ]
          },
          "metadata": {},
          "execution_count": 50
        }
      ]
    },
    {
      "cell_type": "code",
      "source": [
        "df_closing= df_closing[['HomeTeam','AwayTeam','B365Odds','B365COdds','FTR']]"
      ],
      "metadata": {
        "id": "2s3Yt3kU2YzA"
      },
      "execution_count": 51,
      "outputs": []
    },
    {
      "cell_type": "code",
      "source": [
        "df_closing"
      ],
      "metadata": {
        "colab": {
          "base_uri": "https://localhost:8080/",
          "height": 426
        },
        "id": "2fb_b2nq2Yvo",
        "outputId": "17b69eed-a6c8-4063-c54b-f00bd0bb5b8f"
      },
      "execution_count": 52,
      "outputs": [
        {
          "output_type": "execute_result",
          "data": {
            "text/plain": [
              "        HomeTeam        AwayTeam  B365Odds  B365COdds FTR\n",
              "50       Chelsea        Man City         0          1   A\n",
              "77       Everton        West Ham         0          1   A\n",
              "87     Brentford       Leicester         0          1   A\n",
              "108        Leeds       Leicester         1          0   D\n",
              "112      Burnley  Crystal Palace         0          1   D\n",
              "189      Chelsea       Liverpool         1          0   D\n",
              "198  Aston Villa      Man United         1          0   D\n",
              "206    Brentford          Wolves         1          0   A\n",
              "225    Brentford  Crystal Palace         0          1   D\n",
              "260    Newcastle        Brighton         1          0   H\n",
              "305    Brentford        West Ham         0          1   H\n",
              "320      Burnley     Southampton         1          0   H"
            ],
            "text/html": [
              "\n",
              "  <div id=\"df-780ef081-26e4-41b1-9242-0a91262be9ed\">\n",
              "    <div class=\"colab-df-container\">\n",
              "      <div>\n",
              "<style scoped>\n",
              "    .dataframe tbody tr th:only-of-type {\n",
              "        vertical-align: middle;\n",
              "    }\n",
              "\n",
              "    .dataframe tbody tr th {\n",
              "        vertical-align: top;\n",
              "    }\n",
              "\n",
              "    .dataframe thead th {\n",
              "        text-align: right;\n",
              "    }\n",
              "</style>\n",
              "<table border=\"1\" class=\"dataframe\">\n",
              "  <thead>\n",
              "    <tr style=\"text-align: right;\">\n",
              "      <th></th>\n",
              "      <th>HomeTeam</th>\n",
              "      <th>AwayTeam</th>\n",
              "      <th>B365Odds</th>\n",
              "      <th>B365COdds</th>\n",
              "      <th>FTR</th>\n",
              "    </tr>\n",
              "  </thead>\n",
              "  <tbody>\n",
              "    <tr>\n",
              "      <th>50</th>\n",
              "      <td>Chelsea</td>\n",
              "      <td>Man City</td>\n",
              "      <td>0</td>\n",
              "      <td>1</td>\n",
              "      <td>A</td>\n",
              "    </tr>\n",
              "    <tr>\n",
              "      <th>77</th>\n",
              "      <td>Everton</td>\n",
              "      <td>West Ham</td>\n",
              "      <td>0</td>\n",
              "      <td>1</td>\n",
              "      <td>A</td>\n",
              "    </tr>\n",
              "    <tr>\n",
              "      <th>87</th>\n",
              "      <td>Brentford</td>\n",
              "      <td>Leicester</td>\n",
              "      <td>0</td>\n",
              "      <td>1</td>\n",
              "      <td>A</td>\n",
              "    </tr>\n",
              "    <tr>\n",
              "      <th>108</th>\n",
              "      <td>Leeds</td>\n",
              "      <td>Leicester</td>\n",
              "      <td>1</td>\n",
              "      <td>0</td>\n",
              "      <td>D</td>\n",
              "    </tr>\n",
              "    <tr>\n",
              "      <th>112</th>\n",
              "      <td>Burnley</td>\n",
              "      <td>Crystal Palace</td>\n",
              "      <td>0</td>\n",
              "      <td>1</td>\n",
              "      <td>D</td>\n",
              "    </tr>\n",
              "    <tr>\n",
              "      <th>189</th>\n",
              "      <td>Chelsea</td>\n",
              "      <td>Liverpool</td>\n",
              "      <td>1</td>\n",
              "      <td>0</td>\n",
              "      <td>D</td>\n",
              "    </tr>\n",
              "    <tr>\n",
              "      <th>198</th>\n",
              "      <td>Aston Villa</td>\n",
              "      <td>Man United</td>\n",
              "      <td>1</td>\n",
              "      <td>0</td>\n",
              "      <td>D</td>\n",
              "    </tr>\n",
              "    <tr>\n",
              "      <th>206</th>\n",
              "      <td>Brentford</td>\n",
              "      <td>Wolves</td>\n",
              "      <td>1</td>\n",
              "      <td>0</td>\n",
              "      <td>A</td>\n",
              "    </tr>\n",
              "    <tr>\n",
              "      <th>225</th>\n",
              "      <td>Brentford</td>\n",
              "      <td>Crystal Palace</td>\n",
              "      <td>0</td>\n",
              "      <td>1</td>\n",
              "      <td>D</td>\n",
              "    </tr>\n",
              "    <tr>\n",
              "      <th>260</th>\n",
              "      <td>Newcastle</td>\n",
              "      <td>Brighton</td>\n",
              "      <td>1</td>\n",
              "      <td>0</td>\n",
              "      <td>H</td>\n",
              "    </tr>\n",
              "    <tr>\n",
              "      <th>305</th>\n",
              "      <td>Brentford</td>\n",
              "      <td>West Ham</td>\n",
              "      <td>0</td>\n",
              "      <td>1</td>\n",
              "      <td>H</td>\n",
              "    </tr>\n",
              "    <tr>\n",
              "      <th>320</th>\n",
              "      <td>Burnley</td>\n",
              "      <td>Southampton</td>\n",
              "      <td>1</td>\n",
              "      <td>0</td>\n",
              "      <td>H</td>\n",
              "    </tr>\n",
              "  </tbody>\n",
              "</table>\n",
              "</div>\n",
              "      <button class=\"colab-df-convert\" onclick=\"convertToInteractive('df-780ef081-26e4-41b1-9242-0a91262be9ed')\"\n",
              "              title=\"Convert this dataframe to an interactive table.\"\n",
              "              style=\"display:none;\">\n",
              "        \n",
              "  <svg xmlns=\"http://www.w3.org/2000/svg\" height=\"24px\"viewBox=\"0 0 24 24\"\n",
              "       width=\"24px\">\n",
              "    <path d=\"M0 0h24v24H0V0z\" fill=\"none\"/>\n",
              "    <path d=\"M18.56 5.44l.94 2.06.94-2.06 2.06-.94-2.06-.94-.94-2.06-.94 2.06-2.06.94zm-11 1L8.5 8.5l.94-2.06 2.06-.94-2.06-.94L8.5 2.5l-.94 2.06-2.06.94zm10 10l.94 2.06.94-2.06 2.06-.94-2.06-.94-.94-2.06-.94 2.06-2.06.94z\"/><path d=\"M17.41 7.96l-1.37-1.37c-.4-.4-.92-.59-1.43-.59-.52 0-1.04.2-1.43.59L10.3 9.45l-7.72 7.72c-.78.78-.78 2.05 0 2.83L4 21.41c.39.39.9.59 1.41.59.51 0 1.02-.2 1.41-.59l7.78-7.78 2.81-2.81c.8-.78.8-2.07 0-2.86zM5.41 20L4 18.59l7.72-7.72 1.47 1.35L5.41 20z\"/>\n",
              "  </svg>\n",
              "      </button>\n",
              "      \n",
              "  <style>\n",
              "    .colab-df-container {\n",
              "      display:flex;\n",
              "      flex-wrap:wrap;\n",
              "      gap: 12px;\n",
              "    }\n",
              "\n",
              "    .colab-df-convert {\n",
              "      background-color: #E8F0FE;\n",
              "      border: none;\n",
              "      border-radius: 50%;\n",
              "      cursor: pointer;\n",
              "      display: none;\n",
              "      fill: #1967D2;\n",
              "      height: 32px;\n",
              "      padding: 0 0 0 0;\n",
              "      width: 32px;\n",
              "    }\n",
              "\n",
              "    .colab-df-convert:hover {\n",
              "      background-color: #E2EBFA;\n",
              "      box-shadow: 0px 1px 2px rgba(60, 64, 67, 0.3), 0px 1px 3px 1px rgba(60, 64, 67, 0.15);\n",
              "      fill: #174EA6;\n",
              "    }\n",
              "\n",
              "    [theme=dark] .colab-df-convert {\n",
              "      background-color: #3B4455;\n",
              "      fill: #D2E3FC;\n",
              "    }\n",
              "\n",
              "    [theme=dark] .colab-df-convert:hover {\n",
              "      background-color: #434B5C;\n",
              "      box-shadow: 0px 1px 3px 1px rgba(0, 0, 0, 0.15);\n",
              "      filter: drop-shadow(0px 1px 2px rgba(0, 0, 0, 0.3));\n",
              "      fill: #FFFFFF;\n",
              "    }\n",
              "  </style>\n",
              "\n",
              "      <script>\n",
              "        const buttonEl =\n",
              "          document.querySelector('#df-780ef081-26e4-41b1-9242-0a91262be9ed button.colab-df-convert');\n",
              "        buttonEl.style.display =\n",
              "          google.colab.kernel.accessAllowed ? 'block' : 'none';\n",
              "\n",
              "        async function convertToInteractive(key) {\n",
              "          const element = document.querySelector('#df-780ef081-26e4-41b1-9242-0a91262be9ed');\n",
              "          const dataTable =\n",
              "            await google.colab.kernel.invokeFunction('convertToInteractive',\n",
              "                                                     [key], {});\n",
              "          if (!dataTable) return;\n",
              "\n",
              "          const docLinkHtml = 'Like what you see? Visit the ' +\n",
              "            '<a target=\"_blank\" href=https://colab.research.google.com/notebooks/data_table.ipynb>data table notebook</a>'\n",
              "            + ' to learn more about interactive tables.';\n",
              "          element.innerHTML = '';\n",
              "          dataTable['output_type'] = 'display_data';\n",
              "          await google.colab.output.renderOutput(dataTable, element);\n",
              "          const docLink = document.createElement('div');\n",
              "          docLink.innerHTML = docLinkHtml;\n",
              "          element.appendChild(docLink);\n",
              "        }\n",
              "      </script>\n",
              "    </div>\n",
              "  </div>\n",
              "  "
            ]
          },
          "metadata": {},
          "execution_count": 52
        }
      ]
    },
    {
      "cell_type": "markdown",
      "source": [
        "From The above dataframe we can clearly see that almost all the closing and earlier odds are same but the one which differs will have realtion with output so we can keep this as well but we convert it into binary as earlier "
      ],
      "metadata": {
        "id": "c-0T6IQq2_L6"
      }
    },
    {
      "cell_type": "markdown",
      "source": [
        "We not take max as we did earlier.\n",
        "we can set to binary value of 1 if things matches to previous else 0\n"
      ],
      "metadata": {
        "id": "YxzYMksE4ZZV"
      }
    },
    {
      "cell_type": "code",
      "source": [
        "new_ls= ['B365C','BWC','IWC','PSC','WHC','VCC','MaxC','AvgC']"
      ],
      "metadata": {
        "id": "Yx6aeJY_2YtT"
      },
      "execution_count": 53,
      "outputs": []
    },
    {
      "cell_type": "code",
      "source": [
        "for i in new_ls:\n",
        "  df[i+'Odds'] = df.apply (lambda row: convert_binary(row[i+'H'],row[i+'D'],row[i+'A']), axis=1)"
      ],
      "metadata": {
        "id": "N42K6UWJ2YqW"
      },
      "execution_count": 54,
      "outputs": []
    },
    {
      "cell_type": "code",
      "source": [
        "new_ls= ['B365','BW','IW','PS','WH','VC','Max','Avg']\n",
        "for i in new_ls:\n",
        "  df['updated_'+i+'COdds'] = np.where(df[i+'COdds'] == df[i+'Odds'],1,0)"
      ],
      "metadata": {
        "id": "tlZr7Nc72Ynq"
      },
      "execution_count": 55,
      "outputs": []
    },
    {
      "cell_type": "markdown",
      "source": [
        "As we see earlier 2.5 goals not gives us information of winner so we drop these columns again"
      ],
      "metadata": {
        "id": "yuBSTV2v-j5a"
      }
    },
    {
      "cell_type": "markdown",
      "source": [
        "As for Asian handicap also"
      ],
      "metadata": {
        "id": "w1rnSUpP-2uP"
      }
    },
    {
      "cell_type": "markdown",
      "source": [
        "From below stats it is clear that Asian Handicap is good measure to check for winning and we will modify it and keep it "
      ],
      "metadata": {
        "id": "cwGDa-Hgqnxo"
      }
    },
    {
      "cell_type": "code",
      "source": [
        "df['AHh'].value_counts()"
      ],
      "metadata": {
        "colab": {
          "base_uri": "https://localhost:8080/"
        },
        "id": "vun4VKSVCTLO",
        "outputId": "619a7ba4-4bd6-4fb6-839b-7576e6fcf665"
      },
      "execution_count": 56,
      "outputs": [
        {
          "output_type": "execute_result",
          "data": {
            "text/plain": [
              "-0.25    54\n",
              " 0.00    45\n",
              " 0.25    40\n",
              "-0.75    32\n",
              "-0.50    31\n",
              "-1.00    25\n",
              "-1.25    21\n",
              " 0.50    20\n",
              " 0.75    19\n",
              " 1.00    13\n",
              "-1.50    12\n",
              "-2.00    10\n",
              " 1.50    10\n",
              " 1.25    10\n",
              "-1.75     8\n",
              "-2.25     6\n",
              "-2.50     5\n",
              " 1.75     5\n",
              " 2.00     3\n",
              " 2.25     1\n",
              "Name: AHh, dtype: int64"
            ]
          },
          "metadata": {},
          "execution_count": 56
        }
      ]
    },
    {
      "cell_type": "code",
      "source": [
        "# For asian Handicap Games we need to check the goal difference('Goal supremecy') w.r.t home team goal because odd are in Homes.\n",
        "df_asian = df[['HomeTeam','AwayTeam','FTHG','FTAG','AHh','AHCh']]"
      ],
      "metadata": {
        "id": "hj69kdGhCTdN"
      },
      "execution_count": 57,
      "outputs": []
    },
    {
      "cell_type": "code",
      "source": [
        "df_asian.head()"
      ],
      "metadata": {
        "colab": {
          "base_uri": "https://localhost:8080/",
          "height": 206
        },
        "id": "ve2FU1skCTe5",
        "outputId": "84eacc86-0cd8-476f-a950-6e1b0a084ba7"
      },
      "execution_count": 58,
      "outputs": [
        {
          "output_type": "execute_result",
          "data": {
            "text/plain": [
              "     HomeTeam        AwayTeam  FTHG  FTAG   AHh  AHCh\n",
              "0   Brentford         Arsenal     2     0  0.50  0.50\n",
              "1  Man United           Leeds     5     1 -1.00 -1.00\n",
              "2     Burnley        Brighton     1     2  0.25  0.25\n",
              "3     Chelsea  Crystal Palace     3     0 -1.50 -1.50\n",
              "4     Everton     Southampton     3     1 -0.50 -0.50"
            ],
            "text/html": [
              "\n",
              "  <div id=\"df-ce6afd90-8423-4031-a187-9d0164608e3c\">\n",
              "    <div class=\"colab-df-container\">\n",
              "      <div>\n",
              "<style scoped>\n",
              "    .dataframe tbody tr th:only-of-type {\n",
              "        vertical-align: middle;\n",
              "    }\n",
              "\n",
              "    .dataframe tbody tr th {\n",
              "        vertical-align: top;\n",
              "    }\n",
              "\n",
              "    .dataframe thead th {\n",
              "        text-align: right;\n",
              "    }\n",
              "</style>\n",
              "<table border=\"1\" class=\"dataframe\">\n",
              "  <thead>\n",
              "    <tr style=\"text-align: right;\">\n",
              "      <th></th>\n",
              "      <th>HomeTeam</th>\n",
              "      <th>AwayTeam</th>\n",
              "      <th>FTHG</th>\n",
              "      <th>FTAG</th>\n",
              "      <th>AHh</th>\n",
              "      <th>AHCh</th>\n",
              "    </tr>\n",
              "  </thead>\n",
              "  <tbody>\n",
              "    <tr>\n",
              "      <th>0</th>\n",
              "      <td>Brentford</td>\n",
              "      <td>Arsenal</td>\n",
              "      <td>2</td>\n",
              "      <td>0</td>\n",
              "      <td>0.50</td>\n",
              "      <td>0.50</td>\n",
              "    </tr>\n",
              "    <tr>\n",
              "      <th>1</th>\n",
              "      <td>Man United</td>\n",
              "      <td>Leeds</td>\n",
              "      <td>5</td>\n",
              "      <td>1</td>\n",
              "      <td>-1.00</td>\n",
              "      <td>-1.00</td>\n",
              "    </tr>\n",
              "    <tr>\n",
              "      <th>2</th>\n",
              "      <td>Burnley</td>\n",
              "      <td>Brighton</td>\n",
              "      <td>1</td>\n",
              "      <td>2</td>\n",
              "      <td>0.25</td>\n",
              "      <td>0.25</td>\n",
              "    </tr>\n",
              "    <tr>\n",
              "      <th>3</th>\n",
              "      <td>Chelsea</td>\n",
              "      <td>Crystal Palace</td>\n",
              "      <td>3</td>\n",
              "      <td>0</td>\n",
              "      <td>-1.50</td>\n",
              "      <td>-1.50</td>\n",
              "    </tr>\n",
              "    <tr>\n",
              "      <th>4</th>\n",
              "      <td>Everton</td>\n",
              "      <td>Southampton</td>\n",
              "      <td>3</td>\n",
              "      <td>1</td>\n",
              "      <td>-0.50</td>\n",
              "      <td>-0.50</td>\n",
              "    </tr>\n",
              "  </tbody>\n",
              "</table>\n",
              "</div>\n",
              "      <button class=\"colab-df-convert\" onclick=\"convertToInteractive('df-ce6afd90-8423-4031-a187-9d0164608e3c')\"\n",
              "              title=\"Convert this dataframe to an interactive table.\"\n",
              "              style=\"display:none;\">\n",
              "        \n",
              "  <svg xmlns=\"http://www.w3.org/2000/svg\" height=\"24px\"viewBox=\"0 0 24 24\"\n",
              "       width=\"24px\">\n",
              "    <path d=\"M0 0h24v24H0V0z\" fill=\"none\"/>\n",
              "    <path d=\"M18.56 5.44l.94 2.06.94-2.06 2.06-.94-2.06-.94-.94-2.06-.94 2.06-2.06.94zm-11 1L8.5 8.5l.94-2.06 2.06-.94-2.06-.94L8.5 2.5l-.94 2.06-2.06.94zm10 10l.94 2.06.94-2.06 2.06-.94-2.06-.94-.94-2.06-.94 2.06-2.06.94z\"/><path d=\"M17.41 7.96l-1.37-1.37c-.4-.4-.92-.59-1.43-.59-.52 0-1.04.2-1.43.59L10.3 9.45l-7.72 7.72c-.78.78-.78 2.05 0 2.83L4 21.41c.39.39.9.59 1.41.59.51 0 1.02-.2 1.41-.59l7.78-7.78 2.81-2.81c.8-.78.8-2.07 0-2.86zM5.41 20L4 18.59l7.72-7.72 1.47 1.35L5.41 20z\"/>\n",
              "  </svg>\n",
              "      </button>\n",
              "      \n",
              "  <style>\n",
              "    .colab-df-container {\n",
              "      display:flex;\n",
              "      flex-wrap:wrap;\n",
              "      gap: 12px;\n",
              "    }\n",
              "\n",
              "    .colab-df-convert {\n",
              "      background-color: #E8F0FE;\n",
              "      border: none;\n",
              "      border-radius: 50%;\n",
              "      cursor: pointer;\n",
              "      display: none;\n",
              "      fill: #1967D2;\n",
              "      height: 32px;\n",
              "      padding: 0 0 0 0;\n",
              "      width: 32px;\n",
              "    }\n",
              "\n",
              "    .colab-df-convert:hover {\n",
              "      background-color: #E2EBFA;\n",
              "      box-shadow: 0px 1px 2px rgba(60, 64, 67, 0.3), 0px 1px 3px 1px rgba(60, 64, 67, 0.15);\n",
              "      fill: #174EA6;\n",
              "    }\n",
              "\n",
              "    [theme=dark] .colab-df-convert {\n",
              "      background-color: #3B4455;\n",
              "      fill: #D2E3FC;\n",
              "    }\n",
              "\n",
              "    [theme=dark] .colab-df-convert:hover {\n",
              "      background-color: #434B5C;\n",
              "      box-shadow: 0px 1px 3px 1px rgba(0, 0, 0, 0.15);\n",
              "      filter: drop-shadow(0px 1px 2px rgba(0, 0, 0, 0.3));\n",
              "      fill: #FFFFFF;\n",
              "    }\n",
              "  </style>\n",
              "\n",
              "      <script>\n",
              "        const buttonEl =\n",
              "          document.querySelector('#df-ce6afd90-8423-4031-a187-9d0164608e3c button.colab-df-convert');\n",
              "        buttonEl.style.display =\n",
              "          google.colab.kernel.accessAllowed ? 'block' : 'none';\n",
              "\n",
              "        async function convertToInteractive(key) {\n",
              "          const element = document.querySelector('#df-ce6afd90-8423-4031-a187-9d0164608e3c');\n",
              "          const dataTable =\n",
              "            await google.colab.kernel.invokeFunction('convertToInteractive',\n",
              "                                                     [key], {});\n",
              "          if (!dataTable) return;\n",
              "\n",
              "          const docLinkHtml = 'Like what you see? Visit the ' +\n",
              "            '<a target=\"_blank\" href=https://colab.research.google.com/notebooks/data_table.ipynb>data table notebook</a>'\n",
              "            + ' to learn more about interactive tables.';\n",
              "          element.innerHTML = '';\n",
              "          dataTable['output_type'] = 'display_data';\n",
              "          await google.colab.output.renderOutput(dataTable, element);\n",
              "          const docLink = document.createElement('div');\n",
              "          docLink.innerHTML = docLinkHtml;\n",
              "          element.appendChild(docLink);\n",
              "        }\n",
              "      </script>\n",
              "    </div>\n",
              "  </div>\n",
              "  "
            ]
          },
          "metadata": {},
          "execution_count": 58
        }
      ]
    },
    {
      "cell_type": "code",
      "source": [
        "df_asian['goal_diff'] = df.apply(lambda row: row['FTHG'] - row['FTAG'],axis = 1)"
      ],
      "metadata": {
        "colab": {
          "base_uri": "https://localhost:8080/"
        },
        "id": "Za8Um9OMfynV",
        "outputId": "2d7e587f-8ee0-4bb4-c146-1d88ba300ff2"
      },
      "execution_count": 59,
      "outputs": [
        {
          "output_type": "stream",
          "name": "stderr",
          "text": [
            "/usr/local/lib/python3.7/dist-packages/ipykernel_launcher.py:1: SettingWithCopyWarning: \n",
            "A value is trying to be set on a copy of a slice from a DataFrame.\n",
            "Try using .loc[row_indexer,col_indexer] = value instead\n",
            "\n",
            "See the caveats in the documentation: https://pandas.pydata.org/pandas-docs/stable/user_guide/indexing.html#returning-a-view-versus-a-copy\n",
            "  \"\"\"Entry point for launching an IPython kernel.\n"
          ]
        }
      ]
    },
    {
      "cell_type": "code",
      "source": [
        "df_asian.head()"
      ],
      "metadata": {
        "colab": {
          "base_uri": "https://localhost:8080/",
          "height": 206
        },
        "id": "amHeUuU-fyk6",
        "outputId": "df825e5b-7956-4bd5-c0da-f234c39759ab"
      },
      "execution_count": 60,
      "outputs": [
        {
          "output_type": "execute_result",
          "data": {
            "text/plain": [
              "     HomeTeam        AwayTeam  FTHG  FTAG   AHh  AHCh  goal_diff\n",
              "0   Brentford         Arsenal     2     0  0.50  0.50          2\n",
              "1  Man United           Leeds     5     1 -1.00 -1.00          4\n",
              "2     Burnley        Brighton     1     2  0.25  0.25         -1\n",
              "3     Chelsea  Crystal Palace     3     0 -1.50 -1.50          3\n",
              "4     Everton     Southampton     3     1 -0.50 -0.50          2"
            ],
            "text/html": [
              "\n",
              "  <div id=\"df-fb61dcb8-df18-474a-9c6a-10868115fa23\">\n",
              "    <div class=\"colab-df-container\">\n",
              "      <div>\n",
              "<style scoped>\n",
              "    .dataframe tbody tr th:only-of-type {\n",
              "        vertical-align: middle;\n",
              "    }\n",
              "\n",
              "    .dataframe tbody tr th {\n",
              "        vertical-align: top;\n",
              "    }\n",
              "\n",
              "    .dataframe thead th {\n",
              "        text-align: right;\n",
              "    }\n",
              "</style>\n",
              "<table border=\"1\" class=\"dataframe\">\n",
              "  <thead>\n",
              "    <tr style=\"text-align: right;\">\n",
              "      <th></th>\n",
              "      <th>HomeTeam</th>\n",
              "      <th>AwayTeam</th>\n",
              "      <th>FTHG</th>\n",
              "      <th>FTAG</th>\n",
              "      <th>AHh</th>\n",
              "      <th>AHCh</th>\n",
              "      <th>goal_diff</th>\n",
              "    </tr>\n",
              "  </thead>\n",
              "  <tbody>\n",
              "    <tr>\n",
              "      <th>0</th>\n",
              "      <td>Brentford</td>\n",
              "      <td>Arsenal</td>\n",
              "      <td>2</td>\n",
              "      <td>0</td>\n",
              "      <td>0.50</td>\n",
              "      <td>0.50</td>\n",
              "      <td>2</td>\n",
              "    </tr>\n",
              "    <tr>\n",
              "      <th>1</th>\n",
              "      <td>Man United</td>\n",
              "      <td>Leeds</td>\n",
              "      <td>5</td>\n",
              "      <td>1</td>\n",
              "      <td>-1.00</td>\n",
              "      <td>-1.00</td>\n",
              "      <td>4</td>\n",
              "    </tr>\n",
              "    <tr>\n",
              "      <th>2</th>\n",
              "      <td>Burnley</td>\n",
              "      <td>Brighton</td>\n",
              "      <td>1</td>\n",
              "      <td>2</td>\n",
              "      <td>0.25</td>\n",
              "      <td>0.25</td>\n",
              "      <td>-1</td>\n",
              "    </tr>\n",
              "    <tr>\n",
              "      <th>3</th>\n",
              "      <td>Chelsea</td>\n",
              "      <td>Crystal Palace</td>\n",
              "      <td>3</td>\n",
              "      <td>0</td>\n",
              "      <td>-1.50</td>\n",
              "      <td>-1.50</td>\n",
              "      <td>3</td>\n",
              "    </tr>\n",
              "    <tr>\n",
              "      <th>4</th>\n",
              "      <td>Everton</td>\n",
              "      <td>Southampton</td>\n",
              "      <td>3</td>\n",
              "      <td>1</td>\n",
              "      <td>-0.50</td>\n",
              "      <td>-0.50</td>\n",
              "      <td>2</td>\n",
              "    </tr>\n",
              "  </tbody>\n",
              "</table>\n",
              "</div>\n",
              "      <button class=\"colab-df-convert\" onclick=\"convertToInteractive('df-fb61dcb8-df18-474a-9c6a-10868115fa23')\"\n",
              "              title=\"Convert this dataframe to an interactive table.\"\n",
              "              style=\"display:none;\">\n",
              "        \n",
              "  <svg xmlns=\"http://www.w3.org/2000/svg\" height=\"24px\"viewBox=\"0 0 24 24\"\n",
              "       width=\"24px\">\n",
              "    <path d=\"M0 0h24v24H0V0z\" fill=\"none\"/>\n",
              "    <path d=\"M18.56 5.44l.94 2.06.94-2.06 2.06-.94-2.06-.94-.94-2.06-.94 2.06-2.06.94zm-11 1L8.5 8.5l.94-2.06 2.06-.94-2.06-.94L8.5 2.5l-.94 2.06-2.06.94zm10 10l.94 2.06.94-2.06 2.06-.94-2.06-.94-.94-2.06-.94 2.06-2.06.94z\"/><path d=\"M17.41 7.96l-1.37-1.37c-.4-.4-.92-.59-1.43-.59-.52 0-1.04.2-1.43.59L10.3 9.45l-7.72 7.72c-.78.78-.78 2.05 0 2.83L4 21.41c.39.39.9.59 1.41.59.51 0 1.02-.2 1.41-.59l7.78-7.78 2.81-2.81c.8-.78.8-2.07 0-2.86zM5.41 20L4 18.59l7.72-7.72 1.47 1.35L5.41 20z\"/>\n",
              "  </svg>\n",
              "      </button>\n",
              "      \n",
              "  <style>\n",
              "    .colab-df-container {\n",
              "      display:flex;\n",
              "      flex-wrap:wrap;\n",
              "      gap: 12px;\n",
              "    }\n",
              "\n",
              "    .colab-df-convert {\n",
              "      background-color: #E8F0FE;\n",
              "      border: none;\n",
              "      border-radius: 50%;\n",
              "      cursor: pointer;\n",
              "      display: none;\n",
              "      fill: #1967D2;\n",
              "      height: 32px;\n",
              "      padding: 0 0 0 0;\n",
              "      width: 32px;\n",
              "    }\n",
              "\n",
              "    .colab-df-convert:hover {\n",
              "      background-color: #E2EBFA;\n",
              "      box-shadow: 0px 1px 2px rgba(60, 64, 67, 0.3), 0px 1px 3px 1px rgba(60, 64, 67, 0.15);\n",
              "      fill: #174EA6;\n",
              "    }\n",
              "\n",
              "    [theme=dark] .colab-df-convert {\n",
              "      background-color: #3B4455;\n",
              "      fill: #D2E3FC;\n",
              "    }\n",
              "\n",
              "    [theme=dark] .colab-df-convert:hover {\n",
              "      background-color: #434B5C;\n",
              "      box-shadow: 0px 1px 3px 1px rgba(0, 0, 0, 0.15);\n",
              "      filter: drop-shadow(0px 1px 2px rgba(0, 0, 0, 0.3));\n",
              "      fill: #FFFFFF;\n",
              "    }\n",
              "  </style>\n",
              "\n",
              "      <script>\n",
              "        const buttonEl =\n",
              "          document.querySelector('#df-fb61dcb8-df18-474a-9c6a-10868115fa23 button.colab-df-convert');\n",
              "        buttonEl.style.display =\n",
              "          google.colab.kernel.accessAllowed ? 'block' : 'none';\n",
              "\n",
              "        async function convertToInteractive(key) {\n",
              "          const element = document.querySelector('#df-fb61dcb8-df18-474a-9c6a-10868115fa23');\n",
              "          const dataTable =\n",
              "            await google.colab.kernel.invokeFunction('convertToInteractive',\n",
              "                                                     [key], {});\n",
              "          if (!dataTable) return;\n",
              "\n",
              "          const docLinkHtml = 'Like what you see? Visit the ' +\n",
              "            '<a target=\"_blank\" href=https://colab.research.google.com/notebooks/data_table.ipynb>data table notebook</a>'\n",
              "            + ' to learn more about interactive tables.';\n",
              "          element.innerHTML = '';\n",
              "          dataTable['output_type'] = 'display_data';\n",
              "          await google.colab.output.renderOutput(dataTable, element);\n",
              "          const docLink = document.createElement('div');\n",
              "          docLink.innerHTML = docLinkHtml;\n",
              "          element.appendChild(docLink);\n",
              "        }\n",
              "      </script>\n",
              "    </div>\n",
              "  </div>\n",
              "  "
            ]
          },
          "metadata": {},
          "execution_count": 60
        }
      ]
    },
    {
      "cell_type": "code",
      "source": [
        "# Now we need to check for full,half,quater line Handicap\n",
        "#For quarter values if they win game then only they get the whole amount with odds return if they end upto draw they get refund and if they loose they loose,\n",
        "# for half they win or loose\n",
        "def find_diff(x,y):\n",
        "  if x >= y: #here we add equality too because we predict into the win,draw against loose\n",
        "    return True\n",
        "  else:\n",
        "    False\n",
        "def asian_handicap(homegoal,awaygoal,value,homeodds,awayodds):\n",
        "  new_value = value*100\n",
        "  if new_value%50 == 0:# for this values we clear that we win or losse and according to that we win money or loose\n",
        "    new_home_goal = homegoal + value\n",
        "    if find_diff(new_home_goal,awaygoal):\n",
        "      return 0\n",
        "    else:\n",
        "      return 1\n",
        "  else: # this includes odd to and consider our base money as 1 for find the risk that investors take(more risk more we get outcome)\n",
        "    full_handicap = round(value)\n",
        "    total_money = 0\n",
        "    if value < 0:\n",
        "      mid_value = value - 0.25\n",
        "    else:\n",
        "      mid_value = value + 0.25\n",
        "    if homegoal - awaygoal > mid_value: # check for winning the match\n",
        "      total_money = 0.5*homeodds\n",
        "    if (homegoal - awaygoal) >= full_handicap:\n",
        "      total_money = total_money + 0.5*homeodds\n",
        "    else:\n",
        "      total_money = total_money - 0.5*awayodds\n",
        "    if total_money > 1:\n",
        "      return 0\n",
        "    else:\n",
        "      return 1\n",
        "    \n"
      ],
      "metadata": {
        "id": "FMMp0OY_fyh8"
      },
      "execution_count": 61,
      "outputs": []
    },
    {
      "cell_type": "code",
      "source": [
        "#finding all the columns in df columns which have asian handicap\n",
        "list_of_columns = df.columns\n",
        "imp_col = [col for col in list_of_columns if col.find('AH') != -1]"
      ],
      "metadata": {
        "id": "8cmLAwg-fyfX"
      },
      "execution_count": 62,
      "outputs": []
    },
    {
      "cell_type": "code",
      "source": [
        "imp_col"
      ],
      "metadata": {
        "colab": {
          "base_uri": "https://localhost:8080/"
        },
        "id": "G5zSO2W6fydB",
        "outputId": "9196c757-3de6-4afd-f0f3-81a6d6c0485b"
      },
      "execution_count": 63,
      "outputs": [
        {
          "output_type": "execute_result",
          "data": {
            "text/plain": [
              "['AHh',\n",
              " 'B365AHH',\n",
              " 'B365AHA',\n",
              " 'PAHH',\n",
              " 'PAHA',\n",
              " 'MaxAHH',\n",
              " 'MaxAHA',\n",
              " 'AvgAHH',\n",
              " 'AvgAHA',\n",
              " 'AHCh',\n",
              " 'B365CAHH',\n",
              " 'B365CAHA',\n",
              " 'PCAHH',\n",
              " 'PCAHA',\n",
              " 'MaxCAHH',\n",
              " 'MaxCAHA',\n",
              " 'AvgCAHH',\n",
              " 'AvgCAHA']"
            ]
          },
          "metadata": {},
          "execution_count": 63
        }
      ]
    },
    {
      "cell_type": "code",
      "source": [
        "cols = ['B365','P','Max','Avg']\n",
        "for i in cols:\n",
        "  df[i+'asian'] = df.apply(lambda row:asian_handicap(row['FTHG'],row['FTAG'],row['AHh'],row[i+'AHH'],row[i+'AHA']),axis = 1)"
      ],
      "metadata": {
        "id": "efCXVbQyfyaA"
      },
      "execution_count": 64,
      "outputs": []
    },
    {
      "cell_type": "code",
      "source": [
        "df['bool_FTR'] = np.where(df['FTR'] == 'A',1,0)"
      ],
      "metadata": {
        "id": "fIlpI01Vpwv3"
      },
      "execution_count": 65,
      "outputs": []
    },
    {
      "cell_type": "code",
      "source": [
        "#this means asian handicap is one of the good factor for predictions\n",
        "np.where(df['B365asian'] == df['bool_FTR'],1,0).mean()"
      ],
      "metadata": {
        "colab": {
          "base_uri": "https://localhost:8080/"
        },
        "id": "UlZzgEiQfyYC",
        "outputId": "fabc0eb0-c62e-4dbb-fc20-3f2ed9435e2d"
      },
      "execution_count": 66,
      "outputs": [
        {
          "output_type": "execute_result",
          "data": {
            "text/plain": [
              "0.8324324324324325"
            ]
          },
          "metadata": {},
          "execution_count": 66
        }
      ]
    },
    {
      "cell_type": "code",
      "source": [
        ""
      ],
      "metadata": {
        "id": "-wF0mAkdqLYn"
      },
      "execution_count": null,
      "outputs": []
    },
    {
      "cell_type": "code",
      "source": [
        "cols = ['B365C','PC','MaxC','AvgC']\n",
        "for i in cols:\n",
        "  df[i+'asian'] = df.apply(lambda row:asian_handicap(row['FTHG'],row['FTAG'],row['AHCh'],row[i+'AHH'],row[i+'AHA']),axis = 1)"
      ],
      "metadata": {
        "id": "RbkgkbTLq4mH"
      },
      "execution_count": 70,
      "outputs": []
    },
    {
      "cell_type": "code",
      "source": [
        "# we will take Average and AverageC asian and drop all columns"
      ],
      "metadata": {
        "id": "D_zxmh1iq4kF"
      },
      "execution_count": 69,
      "outputs": []
    },
    {
      "cell_type": "code",
      "source": [
        "np.where(df['Avgasian'] == df['AvgCasian'],1,0).mean()"
      ],
      "metadata": {
        "id": "TVBcWKdFq4Lg",
        "colab": {
          "base_uri": "https://localhost:8080/"
        },
        "outputId": "f1f4eb34-b830-452a-a78b-e03f02a93739"
      },
      "execution_count": 71,
      "outputs": [
        {
          "output_type": "execute_result",
          "data": {
            "text/plain": [
              "0.8675675675675676"
            ]
          },
          "metadata": {},
          "execution_count": 71
        }
      ]
    },
    {
      "cell_type": "markdown",
      "source": [
        "Now we set to drop columns which is not used before match start and also which we modified doing analysis."
      ],
      "metadata": {
        "id": "pAznkY5n2twW"
      }
    },
    {
      "cell_type": "code",
      "source": [
        "# we clearly saw from analysis max and avg odds behave same and profuce same results as company odds so we can put it into our whole max odds\n",
        "keep_columns = ['WEEKDAY','max_preds_odds','HomeTeam','AwayTeam','FTR','AvgCasian','Avgasian'] #from above analysis\n",
        "# columns whose string match with update\n",
        "update_columns = [col for col in df.columns if 'update' in col]"
      ],
      "metadata": {
        "id": "UEFCwoJ22q2c"
      },
      "execution_count": 72,
      "outputs": []
    },
    {
      "cell_type": "code",
      "source": [
        "new_columns = keep_columns + update_columns\n",
        "new_columns"
      ],
      "metadata": {
        "colab": {
          "base_uri": "https://localhost:8080/"
        },
        "id": "OE-0USz49WJe",
        "outputId": "1304e737-b2ed-4ca9-b4f9-f091b0477eff"
      },
      "execution_count": 73,
      "outputs": [
        {
          "output_type": "execute_result",
          "data": {
            "text/plain": [
              "['WEEKDAY',\n",
              " 'max_preds_odds',\n",
              " 'HomeTeam',\n",
              " 'AwayTeam',\n",
              " 'FTR',\n",
              " 'AvgCasian',\n",
              " 'Avgasian',\n",
              " 'updated_B365COdds',\n",
              " 'updated_BWCOdds',\n",
              " 'updated_IWCOdds',\n",
              " 'updated_PSCOdds',\n",
              " 'updated_WHCOdds',\n",
              " 'updated_VCCOdds',\n",
              " 'updated_MaxCOdds',\n",
              " 'updated_AvgCOdds']"
            ]
          },
          "metadata": {},
          "execution_count": 73
        }
      ]
    },
    {
      "cell_type": "code",
      "source": [
        "# we remove all odds except 'max_preds_odds'"
      ],
      "metadata": {
        "id": "n3DwtMzJ2qyR"
      },
      "execution_count": 74,
      "outputs": []
    },
    {
      "cell_type": "code",
      "source": [
        "df_new =df[new_columns]"
      ],
      "metadata": {
        "id": "mpqa9nessJZI"
      },
      "execution_count": 75,
      "outputs": []
    },
    {
      "cell_type": "code",
      "source": [
        "df_new.shape"
      ],
      "metadata": {
        "colab": {
          "base_uri": "https://localhost:8080/"
        },
        "id": "Ty7dchYdsXFd",
        "outputId": "5215e06f-d589-44d4-cd4c-85b293e54c65"
      },
      "execution_count": 76,
      "outputs": [
        {
          "output_type": "execute_result",
          "data": {
            "text/plain": [
              "(370, 15)"
            ]
          },
          "metadata": {},
          "execution_count": 76
        }
      ]
    },
    {
      "cell_type": "code",
      "source": [
        "# we need to give Teams a number "
      ],
      "metadata": {
        "id": "2ACtwl4SsXDZ"
      },
      "execution_count": 77,
      "outputs": []
    },
    {
      "cell_type": "code",
      "source": [
        "team_names = list(df_new['HomeTeam'].value_counts().index)\n",
        "team_names"
      ],
      "metadata": {
        "id": "gw2yfHY1sXA9",
        "colab": {
          "base_uri": "https://localhost:8080/"
        },
        "outputId": "4e330077-5a69-4859-be9d-ccc15fb34827"
      },
      "execution_count": 78,
      "outputs": [
        {
          "output_type": "execute_result",
          "data": {
            "text/plain": [
              "['West Ham',\n",
              " 'Leeds',\n",
              " 'Wolves',\n",
              " 'Everton',\n",
              " 'Southampton',\n",
              " 'Watford',\n",
              " 'Newcastle',\n",
              " 'Tottenham',\n",
              " 'Man United',\n",
              " 'Aston Villa',\n",
              " 'Arsenal',\n",
              " 'Brighton',\n",
              " 'Man City',\n",
              " 'Brentford',\n",
              " 'Crystal Palace',\n",
              " 'Norwich',\n",
              " 'Leicester',\n",
              " 'Chelsea',\n",
              " 'Burnley',\n",
              " 'Liverpool']"
            ]
          },
          "metadata": {},
          "execution_count": 78
        }
      ]
    },
    {
      "cell_type": "code",
      "source": [
        "from sklearn import preprocessing\n",
        "le = preprocessing.LabelEncoder()\n",
        "le.fit(team_names)"
      ],
      "metadata": {
        "colab": {
          "base_uri": "https://localhost:8080/"
        },
        "id": "dkkruwTvsW-3",
        "outputId": "d2c33376-bd7b-4b82-a2eb-9d45706ca5b1"
      },
      "execution_count": 79,
      "outputs": [
        {
          "output_type": "execute_result",
          "data": {
            "text/plain": [
              "LabelEncoder()"
            ]
          },
          "metadata": {},
          "execution_count": 79
        }
      ]
    },
    {
      "cell_type": "code",
      "source": [
        "le.transform(team_names)"
      ],
      "metadata": {
        "colab": {
          "base_uri": "https://localhost:8080/"
        },
        "id": "zrFM6VPssW8Z",
        "outputId": "48281f2b-a3c9-4a19-c5ee-b71b193c3275"
      },
      "execution_count": 82,
      "outputs": [
        {
          "output_type": "execute_result",
          "data": {
            "text/plain": [
              "array([18,  8, 19,  7, 15, 17, 13, 16, 12,  1,  0,  3, 11,  2,  6, 14,  9,\n",
              "        5,  4, 10])"
            ]
          },
          "metadata": {},
          "execution_count": 82
        }
      ]
    },
    {
      "cell_type": "code",
      "source": [
        "df_new['transformHomeTeam'] = le.transform(df['HomeTeam'])\n",
        "df_new['transformAwayTeam'] = le.transform(df['AwayTeam'])"
      ],
      "metadata": {
        "colab": {
          "base_uri": "https://localhost:8080/"
        },
        "id": "NGqff8V6sW6C",
        "outputId": "f383888d-2ac1-46bb-cf18-fb4fe785c0ed"
      },
      "execution_count": 83,
      "outputs": [
        {
          "output_type": "stream",
          "name": "stderr",
          "text": [
            "/usr/local/lib/python3.7/dist-packages/ipykernel_launcher.py:1: SettingWithCopyWarning: \n",
            "A value is trying to be set on a copy of a slice from a DataFrame.\n",
            "Try using .loc[row_indexer,col_indexer] = value instead\n",
            "\n",
            "See the caveats in the documentation: https://pandas.pydata.org/pandas-docs/stable/user_guide/indexing.html#returning-a-view-versus-a-copy\n",
            "  \"\"\"Entry point for launching an IPython kernel.\n",
            "/usr/local/lib/python3.7/dist-packages/ipykernel_launcher.py:2: SettingWithCopyWarning: \n",
            "A value is trying to be set on a copy of a slice from a DataFrame.\n",
            "Try using .loc[row_indexer,col_indexer] = value instead\n",
            "\n",
            "See the caveats in the documentation: https://pandas.pydata.org/pandas-docs/stable/user_guide/indexing.html#returning-a-view-versus-a-copy\n",
            "  \n"
          ]
        }
      ]
    },
    {
      "cell_type": "code",
      "source": [
        "df_new.drop(['HomeTeam','AwayTeam'],axis = 1,inplace = True)"
      ],
      "metadata": {
        "id": "VAJF_8iP-iaM",
        "colab": {
          "base_uri": "https://localhost:8080/"
        },
        "outputId": "ae312380-d309-4ac9-b472-8fe40f789ccc"
      },
      "execution_count": 84,
      "outputs": [
        {
          "output_type": "stream",
          "name": "stderr",
          "text": [
            "/usr/local/lib/python3.7/dist-packages/pandas/core/frame.py:4913: SettingWithCopyWarning: \n",
            "A value is trying to be set on a copy of a slice from a DataFrame\n",
            "\n",
            "See the caveats in the documentation: https://pandas.pydata.org/pandas-docs/stable/user_guide/indexing.html#returning-a-view-versus-a-copy\n",
            "  errors=errors,\n"
          ]
        }
      ]
    },
    {
      "cell_type": "code",
      "source": [
        "df_new.columns"
      ],
      "metadata": {
        "colab": {
          "base_uri": "https://localhost:8080/"
        },
        "id": "w3Sbu63JzBCV",
        "outputId": "c4c5929a-10fc-4e80-fd31-e88c831d3155"
      },
      "execution_count": 85,
      "outputs": [
        {
          "output_type": "execute_result",
          "data": {
            "text/plain": [
              "Index(['WEEKDAY', 'max_preds_odds', 'FTR', 'AvgCasian', 'Avgasian',\n",
              "       'updated_B365COdds', 'updated_BWCOdds', 'updated_IWCOdds',\n",
              "       'updated_PSCOdds', 'updated_WHCOdds', 'updated_VCCOdds',\n",
              "       'updated_MaxCOdds', 'updated_AvgCOdds', 'transformHomeTeam',\n",
              "       'transformAwayTeam'],\n",
              "      dtype='object')"
            ]
          },
          "metadata": {},
          "execution_count": 85
        }
      ]
    },
    {
      "cell_type": "code",
      "source": [
        "df_new['FTR'] = np.where(df_new['FTR'] == 'A',1,0)"
      ],
      "metadata": {
        "colab": {
          "base_uri": "https://localhost:8080/"
        },
        "id": "nDp2_ivRzA_d",
        "outputId": "9d9730e1-a5bc-412f-a2f9-3fa1af9018f9"
      },
      "execution_count": 86,
      "outputs": [
        {
          "output_type": "stream",
          "name": "stderr",
          "text": [
            "/usr/local/lib/python3.7/dist-packages/ipykernel_launcher.py:1: SettingWithCopyWarning: \n",
            "A value is trying to be set on a copy of a slice from a DataFrame.\n",
            "Try using .loc[row_indexer,col_indexer] = value instead\n",
            "\n",
            "See the caveats in the documentation: https://pandas.pydata.org/pandas-docs/stable/user_guide/indexing.html#returning-a-view-versus-a-copy\n",
            "  \"\"\"Entry point for launching an IPython kernel.\n"
          ]
        }
      ]
    },
    {
      "cell_type": "code",
      "source": [
        "df_new.head()"
      ],
      "metadata": {
        "colab": {
          "base_uri": "https://localhost:8080/",
          "height": 270
        },
        "id": "SUI9Xt9hzA87",
        "outputId": "d320ce74-e05c-448e-b849-5a0b2431b576"
      },
      "execution_count": 87,
      "outputs": [
        {
          "output_type": "execute_result",
          "data": {
            "text/plain": [
              "   WEEKDAY  max_preds_odds  FTR  AvgCasian  Avgasian  updated_B365COdds  \\\n",
              "0        0               1    0          0         0                  1   \n",
              "1        1               0    0          0         0                  1   \n",
              "2        1               1    1          1         1                  1   \n",
              "3        1               0    0          0         0                  1   \n",
              "4        1               0    0          0         0                  1   \n",
              "\n",
              "   updated_BWCOdds  updated_IWCOdds  updated_PSCOdds  updated_WHCOdds  \\\n",
              "0                1                1                1                1   \n",
              "1                1                1                1                1   \n",
              "2                1                1                1                1   \n",
              "3                1                1                1                1   \n",
              "4                1                1                1                1   \n",
              "\n",
              "   updated_VCCOdds  updated_MaxCOdds  updated_AvgCOdds  transformHomeTeam  \\\n",
              "0                1                 1                 1                  2   \n",
              "1                1                 1                 1                 12   \n",
              "2                1                 1                 1                  4   \n",
              "3                1                 1                 1                  5   \n",
              "4                1                 1                 1                  7   \n",
              "\n",
              "   transformAwayTeam  \n",
              "0                  0  \n",
              "1                  8  \n",
              "2                  3  \n",
              "3                  6  \n",
              "4                 15  "
            ],
            "text/html": [
              "\n",
              "  <div id=\"df-0a894f43-1726-4a85-b8b2-7978cf4fb3d2\">\n",
              "    <div class=\"colab-df-container\">\n",
              "      <div>\n",
              "<style scoped>\n",
              "    .dataframe tbody tr th:only-of-type {\n",
              "        vertical-align: middle;\n",
              "    }\n",
              "\n",
              "    .dataframe tbody tr th {\n",
              "        vertical-align: top;\n",
              "    }\n",
              "\n",
              "    .dataframe thead th {\n",
              "        text-align: right;\n",
              "    }\n",
              "</style>\n",
              "<table border=\"1\" class=\"dataframe\">\n",
              "  <thead>\n",
              "    <tr style=\"text-align: right;\">\n",
              "      <th></th>\n",
              "      <th>WEEKDAY</th>\n",
              "      <th>max_preds_odds</th>\n",
              "      <th>FTR</th>\n",
              "      <th>AvgCasian</th>\n",
              "      <th>Avgasian</th>\n",
              "      <th>updated_B365COdds</th>\n",
              "      <th>updated_BWCOdds</th>\n",
              "      <th>updated_IWCOdds</th>\n",
              "      <th>updated_PSCOdds</th>\n",
              "      <th>updated_WHCOdds</th>\n",
              "      <th>updated_VCCOdds</th>\n",
              "      <th>updated_MaxCOdds</th>\n",
              "      <th>updated_AvgCOdds</th>\n",
              "      <th>transformHomeTeam</th>\n",
              "      <th>transformAwayTeam</th>\n",
              "    </tr>\n",
              "  </thead>\n",
              "  <tbody>\n",
              "    <tr>\n",
              "      <th>0</th>\n",
              "      <td>0</td>\n",
              "      <td>1</td>\n",
              "      <td>0</td>\n",
              "      <td>0</td>\n",
              "      <td>0</td>\n",
              "      <td>1</td>\n",
              "      <td>1</td>\n",
              "      <td>1</td>\n",
              "      <td>1</td>\n",
              "      <td>1</td>\n",
              "      <td>1</td>\n",
              "      <td>1</td>\n",
              "      <td>1</td>\n",
              "      <td>2</td>\n",
              "      <td>0</td>\n",
              "    </tr>\n",
              "    <tr>\n",
              "      <th>1</th>\n",
              "      <td>1</td>\n",
              "      <td>0</td>\n",
              "      <td>0</td>\n",
              "      <td>0</td>\n",
              "      <td>0</td>\n",
              "      <td>1</td>\n",
              "      <td>1</td>\n",
              "      <td>1</td>\n",
              "      <td>1</td>\n",
              "      <td>1</td>\n",
              "      <td>1</td>\n",
              "      <td>1</td>\n",
              "      <td>1</td>\n",
              "      <td>12</td>\n",
              "      <td>8</td>\n",
              "    </tr>\n",
              "    <tr>\n",
              "      <th>2</th>\n",
              "      <td>1</td>\n",
              "      <td>1</td>\n",
              "      <td>1</td>\n",
              "      <td>1</td>\n",
              "      <td>1</td>\n",
              "      <td>1</td>\n",
              "      <td>1</td>\n",
              "      <td>1</td>\n",
              "      <td>1</td>\n",
              "      <td>1</td>\n",
              "      <td>1</td>\n",
              "      <td>1</td>\n",
              "      <td>1</td>\n",
              "      <td>4</td>\n",
              "      <td>3</td>\n",
              "    </tr>\n",
              "    <tr>\n",
              "      <th>3</th>\n",
              "      <td>1</td>\n",
              "      <td>0</td>\n",
              "      <td>0</td>\n",
              "      <td>0</td>\n",
              "      <td>0</td>\n",
              "      <td>1</td>\n",
              "      <td>1</td>\n",
              "      <td>1</td>\n",
              "      <td>1</td>\n",
              "      <td>1</td>\n",
              "      <td>1</td>\n",
              "      <td>1</td>\n",
              "      <td>1</td>\n",
              "      <td>5</td>\n",
              "      <td>6</td>\n",
              "    </tr>\n",
              "    <tr>\n",
              "      <th>4</th>\n",
              "      <td>1</td>\n",
              "      <td>0</td>\n",
              "      <td>0</td>\n",
              "      <td>0</td>\n",
              "      <td>0</td>\n",
              "      <td>1</td>\n",
              "      <td>1</td>\n",
              "      <td>1</td>\n",
              "      <td>1</td>\n",
              "      <td>1</td>\n",
              "      <td>1</td>\n",
              "      <td>1</td>\n",
              "      <td>1</td>\n",
              "      <td>7</td>\n",
              "      <td>15</td>\n",
              "    </tr>\n",
              "  </tbody>\n",
              "</table>\n",
              "</div>\n",
              "      <button class=\"colab-df-convert\" onclick=\"convertToInteractive('df-0a894f43-1726-4a85-b8b2-7978cf4fb3d2')\"\n",
              "              title=\"Convert this dataframe to an interactive table.\"\n",
              "              style=\"display:none;\">\n",
              "        \n",
              "  <svg xmlns=\"http://www.w3.org/2000/svg\" height=\"24px\"viewBox=\"0 0 24 24\"\n",
              "       width=\"24px\">\n",
              "    <path d=\"M0 0h24v24H0V0z\" fill=\"none\"/>\n",
              "    <path d=\"M18.56 5.44l.94 2.06.94-2.06 2.06-.94-2.06-.94-.94-2.06-.94 2.06-2.06.94zm-11 1L8.5 8.5l.94-2.06 2.06-.94-2.06-.94L8.5 2.5l-.94 2.06-2.06.94zm10 10l.94 2.06.94-2.06 2.06-.94-2.06-.94-.94-2.06-.94 2.06-2.06.94z\"/><path d=\"M17.41 7.96l-1.37-1.37c-.4-.4-.92-.59-1.43-.59-.52 0-1.04.2-1.43.59L10.3 9.45l-7.72 7.72c-.78.78-.78 2.05 0 2.83L4 21.41c.39.39.9.59 1.41.59.51 0 1.02-.2 1.41-.59l7.78-7.78 2.81-2.81c.8-.78.8-2.07 0-2.86zM5.41 20L4 18.59l7.72-7.72 1.47 1.35L5.41 20z\"/>\n",
              "  </svg>\n",
              "      </button>\n",
              "      \n",
              "  <style>\n",
              "    .colab-df-container {\n",
              "      display:flex;\n",
              "      flex-wrap:wrap;\n",
              "      gap: 12px;\n",
              "    }\n",
              "\n",
              "    .colab-df-convert {\n",
              "      background-color: #E8F0FE;\n",
              "      border: none;\n",
              "      border-radius: 50%;\n",
              "      cursor: pointer;\n",
              "      display: none;\n",
              "      fill: #1967D2;\n",
              "      height: 32px;\n",
              "      padding: 0 0 0 0;\n",
              "      width: 32px;\n",
              "    }\n",
              "\n",
              "    .colab-df-convert:hover {\n",
              "      background-color: #E2EBFA;\n",
              "      box-shadow: 0px 1px 2px rgba(60, 64, 67, 0.3), 0px 1px 3px 1px rgba(60, 64, 67, 0.15);\n",
              "      fill: #174EA6;\n",
              "    }\n",
              "\n",
              "    [theme=dark] .colab-df-convert {\n",
              "      background-color: #3B4455;\n",
              "      fill: #D2E3FC;\n",
              "    }\n",
              "\n",
              "    [theme=dark] .colab-df-convert:hover {\n",
              "      background-color: #434B5C;\n",
              "      box-shadow: 0px 1px 3px 1px rgba(0, 0, 0, 0.15);\n",
              "      filter: drop-shadow(0px 1px 2px rgba(0, 0, 0, 0.3));\n",
              "      fill: #FFFFFF;\n",
              "    }\n",
              "  </style>\n",
              "\n",
              "      <script>\n",
              "        const buttonEl =\n",
              "          document.querySelector('#df-0a894f43-1726-4a85-b8b2-7978cf4fb3d2 button.colab-df-convert');\n",
              "        buttonEl.style.display =\n",
              "          google.colab.kernel.accessAllowed ? 'block' : 'none';\n",
              "\n",
              "        async function convertToInteractive(key) {\n",
              "          const element = document.querySelector('#df-0a894f43-1726-4a85-b8b2-7978cf4fb3d2');\n",
              "          const dataTable =\n",
              "            await google.colab.kernel.invokeFunction('convertToInteractive',\n",
              "                                                     [key], {});\n",
              "          if (!dataTable) return;\n",
              "\n",
              "          const docLinkHtml = 'Like what you see? Visit the ' +\n",
              "            '<a target=\"_blank\" href=https://colab.research.google.com/notebooks/data_table.ipynb>data table notebook</a>'\n",
              "            + ' to learn more about interactive tables.';\n",
              "          element.innerHTML = '';\n",
              "          dataTable['output_type'] = 'display_data';\n",
              "          await google.colab.output.renderOutput(dataTable, element);\n",
              "          const docLink = document.createElement('div');\n",
              "          docLink.innerHTML = docLinkHtml;\n",
              "          element.appendChild(docLink);\n",
              "        }\n",
              "      </script>\n",
              "    </div>\n",
              "  </div>\n",
              "  "
            ]
          },
          "metadata": {},
          "execution_count": 87
        }
      ]
    },
    {
      "cell_type": "code",
      "source": [
        "df_new.shape"
      ],
      "metadata": {
        "colab": {
          "base_uri": "https://localhost:8080/"
        },
        "id": "vrhQyDjfzA6X",
        "outputId": "f89e12f7-7d26-4f59-ad70-b7216b00f1dd"
      },
      "execution_count": 88,
      "outputs": [
        {
          "output_type": "execute_result",
          "data": {
            "text/plain": [
              "(370, 15)"
            ]
          },
          "metadata": {},
          "execution_count": 88
        }
      ]
    },
    {
      "cell_type": "code",
      "source": [
        "X = df_new.drop('FTR',axis = 1)\n",
        "Y = df_new['FTR']"
      ],
      "metadata": {
        "id": "nCrCIjjTzaU8"
      },
      "execution_count": 89,
      "outputs": []
    },
    {
      "cell_type": "code",
      "source": [
        "Y.value_counts()"
      ],
      "metadata": {
        "colab": {
          "base_uri": "https://localhost:8080/"
        },
        "id": "HNxT5YnBhg66",
        "outputId": "0f1a7608-9829-4e4e-bf27-28089e9d013b"
      },
      "execution_count": 102,
      "outputs": [
        {
          "output_type": "execute_result",
          "data": {
            "text/plain": [
              "0    244\n",
              "1    126\n",
              "Name: FTR, dtype: int64"
            ]
          },
          "metadata": {},
          "execution_count": 102
        }
      ]
    },
    {
      "cell_type": "code",
      "source": [
        "from sklearn.model_selection import train_test_split\n",
        "x_train, x_test, y_train, y_test = train_test_split(X, Y,test_size=0.2,random_state=0,stratify=Y)"
      ],
      "metadata": {
        "id": "lQCOkUCFzaST"
      },
      "execution_count": 90,
      "outputs": []
    },
    {
      "cell_type": "code",
      "source": [
        "len(x_train),len(x_test)"
      ],
      "metadata": {
        "colab": {
          "base_uri": "https://localhost:8080/"
        },
        "id": "zHcfFXW2zaQB",
        "outputId": "cc0db791-1555-4bc1-9e5d-4b9e575319eb"
      },
      "execution_count": 91,
      "outputs": [
        {
          "output_type": "execute_result",
          "data": {
            "text/plain": [
              "(296, 74)"
            ]
          },
          "metadata": {},
          "execution_count": 91
        }
      ]
    },
    {
      "cell_type": "code",
      "source": [
        "def run_exps(x_train, y_train, x_test, y_test):\n",
        "    \n",
        "    dfs = []\n",
        "    models = [\n",
        "              ('LogReg', LogisticRegression()), \n",
        "              ('RF', RandomForestClassifier()),\n",
        "              ('KNN', KNeighborsClassifier()),\n",
        "              ('SVM', SVC()), \n",
        "              ('GNB', GaussianNB()),\n",
        "              ('XGB', XGBClassifier())\n",
        "            ]\n",
        "    scoring = ['roc_auc']\n",
        "    matrix = []\n",
        "    # target_names = ['Away team Win', 'Loose']\n",
        "    for name, model in models:\n",
        "        Skfold = model_selection.StratifiedKFold(n_splits=5, shuffle=True, random_state=90210)\n",
        "        cv_results = model_selection.cross_validate(model, x_train, y_train, cv=Skfold, scoring=scoring)\n",
        "        clf = model.fit(x_train, y_train)\n",
        "        y_pred = clf.predict(x_test)\n",
        "        score_roc = roc_auc_score(y_test,y_pred)\n",
        "        score_mcc = matthews_corrcoef(y_test, y_pred)\n",
        "        matrix.append([name,score_roc,score_mcc])\n",
        "    return matrix"
      ],
      "metadata": {
        "id": "pv40V2oxzaK2"
      },
      "execution_count": 110,
      "outputs": []
    },
    {
      "cell_type": "code",
      "source": [
        "check_result = run_exps(x_train, y_train, x_test, y_test)"
      ],
      "metadata": {
        "id": "Gh9jlEKkzaIM"
      },
      "execution_count": null,
      "outputs": []
    },
    {
      "cell_type": "code",
      "source": [
        "metrics = pd.DataFrame(check_result)"
      ],
      "metadata": {
        "id": "y6EsLpWGzaFn"
      },
      "execution_count": 112,
      "outputs": []
    },
    {
      "cell_type": "code",
      "source": [
        "metrics.columns = [['Model','ROC_AUC','MCC']]"
      ],
      "metadata": {
        "id": "SPxa69tPkXVm"
      },
      "execution_count": 117,
      "outputs": []
    },
    {
      "cell_type": "code",
      "source": [
        "metrics"
      ],
      "metadata": {
        "id": "uxtGE039zaDG",
        "colab": {
          "base_uri": "https://localhost:8080/",
          "height": 237
        },
        "outputId": "0487e9eb-ded6-473a-b352-5f2c606fdf4c"
      },
      "execution_count": 118,
      "outputs": [
        {
          "output_type": "execute_result",
          "data": {
            "text/plain": [
              "    Model   ROC_AUC       MCC\n",
              "0  LogReg  0.778367  0.551581\n",
              "1      RF  0.808571  0.611430\n",
              "2     KNN  0.517551  0.038005\n",
              "3     SVM  0.500000  0.000000\n",
              "4     GNB  0.808163  0.597137\n",
              "5     XGB  0.818776  0.637551"
            ],
            "text/html": [
              "\n",
              "  <div id=\"df-171e5089-b7d3-4d78-b277-7dc23291167e\">\n",
              "    <div class=\"colab-df-container\">\n",
              "      <div>\n",
              "<style scoped>\n",
              "    .dataframe tbody tr th:only-of-type {\n",
              "        vertical-align: middle;\n",
              "    }\n",
              "\n",
              "    .dataframe tbody tr th {\n",
              "        vertical-align: top;\n",
              "    }\n",
              "\n",
              "    .dataframe thead tr th {\n",
              "        text-align: left;\n",
              "    }\n",
              "</style>\n",
              "<table border=\"1\" class=\"dataframe\">\n",
              "  <thead>\n",
              "    <tr>\n",
              "      <th></th>\n",
              "      <th>Model</th>\n",
              "      <th>ROC_AUC</th>\n",
              "      <th>MCC</th>\n",
              "    </tr>\n",
              "  </thead>\n",
              "  <tbody>\n",
              "    <tr>\n",
              "      <th>0</th>\n",
              "      <td>LogReg</td>\n",
              "      <td>0.778367</td>\n",
              "      <td>0.551581</td>\n",
              "    </tr>\n",
              "    <tr>\n",
              "      <th>1</th>\n",
              "      <td>RF</td>\n",
              "      <td>0.808571</td>\n",
              "      <td>0.611430</td>\n",
              "    </tr>\n",
              "    <tr>\n",
              "      <th>2</th>\n",
              "      <td>KNN</td>\n",
              "      <td>0.517551</td>\n",
              "      <td>0.038005</td>\n",
              "    </tr>\n",
              "    <tr>\n",
              "      <th>3</th>\n",
              "      <td>SVM</td>\n",
              "      <td>0.500000</td>\n",
              "      <td>0.000000</td>\n",
              "    </tr>\n",
              "    <tr>\n",
              "      <th>4</th>\n",
              "      <td>GNB</td>\n",
              "      <td>0.808163</td>\n",
              "      <td>0.597137</td>\n",
              "    </tr>\n",
              "    <tr>\n",
              "      <th>5</th>\n",
              "      <td>XGB</td>\n",
              "      <td>0.818776</td>\n",
              "      <td>0.637551</td>\n",
              "    </tr>\n",
              "  </tbody>\n",
              "</table>\n",
              "</div>\n",
              "      <button class=\"colab-df-convert\" onclick=\"convertToInteractive('df-171e5089-b7d3-4d78-b277-7dc23291167e')\"\n",
              "              title=\"Convert this dataframe to an interactive table.\"\n",
              "              style=\"display:none;\">\n",
              "        \n",
              "  <svg xmlns=\"http://www.w3.org/2000/svg\" height=\"24px\"viewBox=\"0 0 24 24\"\n",
              "       width=\"24px\">\n",
              "    <path d=\"M0 0h24v24H0V0z\" fill=\"none\"/>\n",
              "    <path d=\"M18.56 5.44l.94 2.06.94-2.06 2.06-.94-2.06-.94-.94-2.06-.94 2.06-2.06.94zm-11 1L8.5 8.5l.94-2.06 2.06-.94-2.06-.94L8.5 2.5l-.94 2.06-2.06.94zm10 10l.94 2.06.94-2.06 2.06-.94-2.06-.94-.94-2.06-.94 2.06-2.06.94z\"/><path d=\"M17.41 7.96l-1.37-1.37c-.4-.4-.92-.59-1.43-.59-.52 0-1.04.2-1.43.59L10.3 9.45l-7.72 7.72c-.78.78-.78 2.05 0 2.83L4 21.41c.39.39.9.59 1.41.59.51 0 1.02-.2 1.41-.59l7.78-7.78 2.81-2.81c.8-.78.8-2.07 0-2.86zM5.41 20L4 18.59l7.72-7.72 1.47 1.35L5.41 20z\"/>\n",
              "  </svg>\n",
              "      </button>\n",
              "      \n",
              "  <style>\n",
              "    .colab-df-container {\n",
              "      display:flex;\n",
              "      flex-wrap:wrap;\n",
              "      gap: 12px;\n",
              "    }\n",
              "\n",
              "    .colab-df-convert {\n",
              "      background-color: #E8F0FE;\n",
              "      border: none;\n",
              "      border-radius: 50%;\n",
              "      cursor: pointer;\n",
              "      display: none;\n",
              "      fill: #1967D2;\n",
              "      height: 32px;\n",
              "      padding: 0 0 0 0;\n",
              "      width: 32px;\n",
              "    }\n",
              "\n",
              "    .colab-df-convert:hover {\n",
              "      background-color: #E2EBFA;\n",
              "      box-shadow: 0px 1px 2px rgba(60, 64, 67, 0.3), 0px 1px 3px 1px rgba(60, 64, 67, 0.15);\n",
              "      fill: #174EA6;\n",
              "    }\n",
              "\n",
              "    [theme=dark] .colab-df-convert {\n",
              "      background-color: #3B4455;\n",
              "      fill: #D2E3FC;\n",
              "    }\n",
              "\n",
              "    [theme=dark] .colab-df-convert:hover {\n",
              "      background-color: #434B5C;\n",
              "      box-shadow: 0px 1px 3px 1px rgba(0, 0, 0, 0.15);\n",
              "      filter: drop-shadow(0px 1px 2px rgba(0, 0, 0, 0.3));\n",
              "      fill: #FFFFFF;\n",
              "    }\n",
              "  </style>\n",
              "\n",
              "      <script>\n",
              "        const buttonEl =\n",
              "          document.querySelector('#df-171e5089-b7d3-4d78-b277-7dc23291167e button.colab-df-convert');\n",
              "        buttonEl.style.display =\n",
              "          google.colab.kernel.accessAllowed ? 'block' : 'none';\n",
              "\n",
              "        async function convertToInteractive(key) {\n",
              "          const element = document.querySelector('#df-171e5089-b7d3-4d78-b277-7dc23291167e');\n",
              "          const dataTable =\n",
              "            await google.colab.kernel.invokeFunction('convertToInteractive',\n",
              "                                                     [key], {});\n",
              "          if (!dataTable) return;\n",
              "\n",
              "          const docLinkHtml = 'Like what you see? Visit the ' +\n",
              "            '<a target=\"_blank\" href=https://colab.research.google.com/notebooks/data_table.ipynb>data table notebook</a>'\n",
              "            + ' to learn more about interactive tables.';\n",
              "          element.innerHTML = '';\n",
              "          dataTable['output_type'] = 'display_data';\n",
              "          await google.colab.output.renderOutput(dataTable, element);\n",
              "          const docLink = document.createElement('div');\n",
              "          docLink.innerHTML = docLinkHtml;\n",
              "          element.appendChild(docLink);\n",
              "        }\n",
              "      </script>\n",
              "    </div>\n",
              "  </div>\n",
              "  "
            ]
          },
          "metadata": {},
          "execution_count": 118
        }
      ]
    },
    {
      "cell_type": "code",
      "source": [
        ""
      ],
      "metadata": {
        "id": "lIlicAMNzaAc"
      },
      "execution_count": null,
      "outputs": []
    }
  ]
}